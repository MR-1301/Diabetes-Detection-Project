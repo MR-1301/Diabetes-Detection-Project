{
 "cells": [
  {
   "cell_type": "code",
   "execution_count": 37,
   "metadata": {},
   "outputs": [
    {
     "data": {
      "text/plain": "                                0       1        2       3        4\nPregnancies                 6.000   1.000    8.000   1.000    0.000\nGlucose                   148.000  85.000  183.000  89.000  137.000\nBloodPressure              72.000  66.000   64.000  66.000   40.000\nSkinThickness              35.000  29.000    0.000  23.000   35.000\nInsulin                     0.000   0.000    0.000  94.000  168.000\nBMI                        33.600  26.600   23.300  28.100   43.100\nDiabetesPedigreeFunction    0.627   0.351    0.672   0.167    2.288\nAge                        50.000  31.000   32.000  21.000   33.000\nOutcome                     1.000   0.000    1.000   0.000    1.000",
      "text/html": "<div>\n<style scoped>\n    .dataframe tbody tr th:only-of-type {\n        vertical-align: middle;\n    }\n\n    .dataframe tbody tr th {\n        vertical-align: top;\n    }\n\n    .dataframe thead th {\n        text-align: right;\n    }\n</style>\n<table border=\"1\" class=\"dataframe\">\n  <thead>\n    <tr style=\"text-align: right;\">\n      <th></th>\n      <th>0</th>\n      <th>1</th>\n      <th>2</th>\n      <th>3</th>\n      <th>4</th>\n    </tr>\n  </thead>\n  <tbody>\n    <tr>\n      <th>Pregnancies</th>\n      <td>6.000</td>\n      <td>1.000</td>\n      <td>8.000</td>\n      <td>1.000</td>\n      <td>0.000</td>\n    </tr>\n    <tr>\n      <th>Glucose</th>\n      <td>148.000</td>\n      <td>85.000</td>\n      <td>183.000</td>\n      <td>89.000</td>\n      <td>137.000</td>\n    </tr>\n    <tr>\n      <th>BloodPressure</th>\n      <td>72.000</td>\n      <td>66.000</td>\n      <td>64.000</td>\n      <td>66.000</td>\n      <td>40.000</td>\n    </tr>\n    <tr>\n      <th>SkinThickness</th>\n      <td>35.000</td>\n      <td>29.000</td>\n      <td>0.000</td>\n      <td>23.000</td>\n      <td>35.000</td>\n    </tr>\n    <tr>\n      <th>Insulin</th>\n      <td>0.000</td>\n      <td>0.000</td>\n      <td>0.000</td>\n      <td>94.000</td>\n      <td>168.000</td>\n    </tr>\n    <tr>\n      <th>BMI</th>\n      <td>33.600</td>\n      <td>26.600</td>\n      <td>23.300</td>\n      <td>28.100</td>\n      <td>43.100</td>\n    </tr>\n    <tr>\n      <th>DiabetesPedigreeFunction</th>\n      <td>0.627</td>\n      <td>0.351</td>\n      <td>0.672</td>\n      <td>0.167</td>\n      <td>2.288</td>\n    </tr>\n    <tr>\n      <th>Age</th>\n      <td>50.000</td>\n      <td>31.000</td>\n      <td>32.000</td>\n      <td>21.000</td>\n      <td>33.000</td>\n    </tr>\n    <tr>\n      <th>Outcome</th>\n      <td>1.000</td>\n      <td>0.000</td>\n      <td>1.000</td>\n      <td>0.000</td>\n      <td>1.000</td>\n    </tr>\n  </tbody>\n</table>\n</div>"
     },
     "execution_count": 37,
     "metadata": {},
     "output_type": "execute_result"
    }
   ],
   "source": [
    "from sklearn.model_selection import KFold\n",
    "import pandas as pd\n",
    "import numpy as np\n",
    "from sklearn.ensemble import GradientBoostingClassifier\n",
    "from sklearn.preprocessing import StandardScaler\n",
    "from sklearn.metrics import mean_squared_error, mean_absolute_error, precision_score, recall_score, roc_auc_score\n",
    "from sklearn.model_selection import train_test_split as tts\n",
    "from sklearn.model_selection import GridSearchCV\n",
    "import matplotlib.pyplot as plt\n",
    "import pickle\n",
    "# read training data pp-trial3\n",
    "diabetes_train = pd.read_csv(\"./content/sample_data/Pima Indians Diabetes Dataset - diabetes.csv\")\n",
    "diabetes_train.head().transpose()\n"
   ]
  },
  {
   "cell_type": "code",
   "execution_count": 38,
   "metadata": {},
   "outputs": [],
   "source": [
    "# Glucose\n",
    "diabetes_train['Glucose'].replace(0,np.NaN,inplace=True)\n",
    "mean_Glucose=diabetes_train['Glucose'].mean()\n",
    "diabetes_train['Glucose'].fillna(mean_Glucose, inplace = True)"
   ]
  },
  {
   "cell_type": "code",
   "execution_count": 39,
   "metadata": {},
   "outputs": [],
   "source": [
    "# BloodPressure\n",
    "diabetes_train['BloodPressure'].replace(0,np.NaN,inplace=True)\n",
    "mean_BloodPressure=diabetes_train['BloodPressure'].mean()\n",
    "diabetes_train['BloodPressure'].fillna(mean_BloodPressure, inplace = True)"
   ]
  },
  {
   "cell_type": "code",
   "execution_count": 40,
   "metadata": {},
   "outputs": [],
   "source": [
    "# SkinThickness\n",
    "diabetes_train['SkinThickness'].replace(0,np.NaN,inplace=True)\n",
    "mean_SkinThickness=diabetes_train['SkinThickness'].mean()\n",
    "diabetes_train['SkinThickness'].fillna(mean_SkinThickness, inplace = True)"
   ]
  },
  {
   "cell_type": "code",
   "execution_count": 41,
   "metadata": {},
   "outputs": [],
   "source": [
    "# Insulin\n",
    "diabetes_train['Insulin'].replace(0,np.NaN,inplace=True)\n",
    "mean_Insulin=diabetes_train['Insulin'].mean()\n",
    "diabetes_train['Insulin'].fillna(mean_Insulin, inplace = True)"
   ]
  },
  {
   "cell_type": "code",
   "execution_count": 42,
   "metadata": {},
   "outputs": [],
   "source": [
    "# BMI\n",
    "diabetes_train['BMI'].replace(0,np.NaN,inplace=True)\n",
    "mean_BMI=diabetes_train['BMI'].mean()\n",
    "diabetes_train['BMI'].fillna(mean_BMI, inplace = True)"
   ]
  },
  {
   "cell_type": "code",
   "execution_count": 43,
   "metadata": {},
   "outputs": [],
   "source": [
    "# StSc=StandardScaler()"
   ]
  },
  {
   "cell_type": "code",
   "execution_count": 44,
   "metadata": {},
   "outputs": [
    {
     "name": "stdout",
     "output_type": "stream",
     "text": [
      "   Pregnancies  Glucose  BloodPressure  SkinThickness     Insulin   BMI  \\\n",
      "0            6    148.0           72.0       35.00000  155.548223  33.6   \n",
      "1            1     85.0           66.0       29.00000  155.548223  26.6   \n",
      "2            8    183.0           64.0       29.15342  155.548223  23.3   \n",
      "3            1     89.0           66.0       23.00000   94.000000  28.1   \n",
      "4            0    137.0           40.0       35.00000  168.000000  43.1   \n",
      "\n",
      "   DiabetesPedigreeFunction  Age  \n",
      "0                     0.627   50  \n",
      "1                     0.351   31  \n",
      "2                     0.672   32  \n",
      "3                     0.167   21  \n",
      "4                     2.288   33  \n"
     ]
    }
   ],
   "source": [
    "features_X=diabetes_train.drop([\"Outcome\"],axis = 1)\n",
    "print(features_X.head())\n",
    "# features_X=  pd.DataFrame(StSc.fit_transform(features_X),columns=['Pregnancies', 'Glucose', 'BloodPressure', 'SkinThickness', 'Insulin','BMI', 'DiabetesPedigreeFunction', 'Age'])\n",
    "# print(features_X.head())"
   ]
  },
  {
   "cell_type": "code",
   "execution_count": 45,
   "metadata": {},
   "outputs": [
    {
     "name": "stdout",
     "output_type": "stream",
     "text": [
      "0      1\n",
      "1      0\n",
      "2      1\n",
      "3      0\n",
      "4      1\n",
      "      ..\n",
      "763    0\n",
      "764    0\n",
      "765    0\n",
      "766    1\n",
      "767    0\n",
      "Name: Outcome, Length: 768, dtype: int64\n"
     ]
    }
   ],
   "source": [
    "observation_Y=diabetes_train['Outcome']\n",
    "print(observation_Y)"
   ]
  },
  {
   "cell_type": "code",
   "execution_count": 46,
   "metadata": {},
   "outputs": [],
   "source": [
    "tr_X, te_X, tr_Y,te_Y=tts(features_X,observation_Y, test_size=0.1, random_state=42, stratify=observation_Y)"
   ]
  },
  {
   "cell_type": "code",
   "execution_count": 47,
   "metadata": {},
   "outputs": [
    {
     "name": "stdout",
     "output_type": "stream",
     "text": [
      "Train X Size: (691, 8)\n",
      "Test X Size: (77, 8)\n",
      "Train Y Size: (691,)\n",
      "Test Y Size: (77,)\n"
     ]
    }
   ],
   "source": [
    "print(\"Train X Size:\",tr_X.shape)\n",
    "print(\"Test X Size:\",te_X.shape)\n",
    "print(\"Train Y Size:\",tr_Y.shape)\n",
    "print(\"Test Y Size:\",te_Y.shape)"
   ]
  },
  {
   "cell_type": "code",
   "execution_count": 48,
   "metadata": {},
   "outputs": [],
   "source": [
    "from sklearn.svm import SVC"
   ]
  },
  {
   "cell_type": "code",
   "execution_count": 49,
   "metadata": {},
   "outputs": [],
   "source": [
    "model = SVC(C=1)"
   ]
  },
  {
   "cell_type": "code",
   "execution_count": 50,
   "metadata": {},
   "outputs": [
    {
     "data": {
      "text/plain": "SVC(C=1)"
     },
     "execution_count": 50,
     "metadata": {},
     "output_type": "execute_result"
    }
   ],
   "source": [
    "model.fit(tr_X, tr_Y)"
   ]
  },
  {
   "cell_type": "code",
   "execution_count": 51,
   "metadata": {},
   "outputs": [],
   "source": [
    "y_pred = model.predict(te_X) "
   ]
  },
  {
   "cell_type": "code",
   "execution_count": 52,
   "metadata": {},
   "outputs": [
    {
     "data": {
      "text/plain": "array([[43,  7],\n       [14, 13]], dtype=int64)"
     },
     "execution_count": 52,
     "metadata": {},
     "output_type": "execute_result"
    }
   ],
   "source": [
    "from sklearn import metrics\n",
    "metrics.confusion_matrix(y_true=te_Y, y_pred=y_pred)"
   ]
  },
  {
   "cell_type": "code",
   "execution_count": 53,
   "metadata": {},
   "outputs": [
    {
     "name": "stdout",
     "output_type": "stream",
     "text": [
      "accuracy 0.7272727272727273\n",
      "precision 0.65\n",
      "recall 0.48148148148148145\n"
     ]
    }
   ],
   "source": [
    "\n",
    "\n",
    "# accuracy\n",
    "print(\"accuracy\", metrics.accuracy_score(te_Y, y_pred))\n",
    "\n",
    "# precision\n",
    "print(\"precision\", metrics.precision_score(te_Y, y_pred))\n",
    "\n",
    "# recall/sensitivity\n",
    "print(\"recall\", metrics.recall_score(te_Y, y_pred))"
   ]
  },
  {
   "cell_type": "code",
   "execution_count": 54,
   "metadata": {},
   "outputs": [],
   "source": [
    "n_folds = 5"
   ]
  },
  {
   "cell_type": "code",
   "execution_count": 55,
   "metadata": {},
   "outputs": [],
   "source": [
    "params = {\"C\": [0.1, 1, 10,100,1000]}"
   ]
  },
  {
   "cell_type": "code",
   "execution_count": 56,
   "metadata": {},
   "outputs": [],
   "source": [
    "linear_model = SVC()"
   ]
  },
  {
   "cell_type": "code",
   "execution_count": 57,
   "metadata": {},
   "outputs": [],
   "source": [
    "model_cv = GridSearchCV(estimator = linear_model, \n",
    "                        param_grid = params, \n",
    "                        scoring= 'recall', \n",
    "                        cv = n_folds, \n",
    "                        verbose = 1,\n",
    "                      return_train_score=True)   "
   ]
  },
  {
   "cell_type": "code",
   "execution_count": 58,
   "metadata": {},
   "outputs": [
    {
     "name": "stdout",
     "output_type": "stream",
     "text": [
      "Fitting 5 folds for each of 5 candidates, totalling 25 fits\n"
     ]
    },
    {
     "data": {
      "text/plain": "GridSearchCV(cv=5, estimator=SVC(), param_grid={'C': [0.1, 1, 10, 100, 1000]},\n             return_train_score=True, scoring='recall', verbose=1)"
     },
     "execution_count": 58,
     "metadata": {},
     "output_type": "execute_result"
    }
   ],
   "source": [
    "model_cv.fit(tr_X,tr_Y)"
   ]
  },
  {
   "cell_type": "code",
   "execution_count": 59,
   "metadata": {},
   "outputs": [
    {
     "name": "stdout",
     "output_type": "stream",
     "text": [
      "   mean_fit_time  std_fit_time  mean_score_time  std_score_time param_C  \\\n",
      "0       0.014451      0.002859         0.008494        0.001336     0.1   \n",
      "1       0.014999      0.006109         0.006380        0.003621       1   \n",
      "2       0.023808      0.009712         0.012980        0.006191      10   \n",
      "3       0.013051      0.003898         0.007600        0.003666     100   \n",
      "4       0.042442      0.005853         0.004712        0.004107    1000   \n",
      "\n",
      "        params  split0_test_score  split1_test_score  split2_test_score  \\\n",
      "0   {'C': 0.1}           0.326531           0.291667           0.333333   \n",
      "1     {'C': 1}           0.367347           0.541667           0.583333   \n",
      "2    {'C': 10}           0.387755           0.583333           0.604167   \n",
      "3   {'C': 100}           0.469388           0.520833           0.583333   \n",
      "4  {'C': 1000}           0.448980           0.604167           0.583333   \n",
      "\n",
      "   split3_test_score  ...  mean_test_score  std_test_score  rank_test_score  \\\n",
      "0           0.250000  ...         0.290306        0.035818                5   \n",
      "1           0.479167  ...         0.481803        0.076108                4   \n",
      "2           0.500000  ...         0.510884        0.077763                3   \n",
      "3           0.541667  ...         0.514711        0.046273                2   \n",
      "4           0.541667  ...         0.527296        0.063475                1   \n",
      "\n",
      "   split0_train_score  split1_train_score  split2_train_score  \\\n",
      "0            0.369792            0.233161            0.300518   \n",
      "1            0.510417            0.461140            0.471503   \n",
      "2            0.541667            0.549223            0.549223   \n",
      "3            0.598958            0.585492            0.575130   \n",
      "4            0.619792            0.616580            0.647668   \n",
      "\n",
      "   split3_train_score  split4_train_score  mean_train_score  std_train_score  \n",
      "0            0.295337            0.310881          0.301938         0.043497  \n",
      "1            0.507772            0.487047          0.487576         0.019427  \n",
      "2            0.523316            0.533679          0.539421         0.009895  \n",
      "3            0.564767            0.590674          0.583004         0.011951  \n",
      "4            0.606218            0.658031          0.629658         0.019734  \n",
      "\n",
      "[5 rows x 21 columns]\n"
     ]
    }
   ],
   "source": [
    "cv_results = model_cv.cv_results_\n",
    "print(pd.DataFrame(model_cv.cv_results_))"
   ]
  },
  {
   "cell_type": "code",
   "execution_count": 60,
   "metadata": {},
   "outputs": [
    {
     "data": {
      "text/plain": "<Figure size 576x432 with 1 Axes>",
      "image/png": "[encoded data removed]"
     },
     "metadata": {
      "needs_background": "light"
     },
     "output_type": "display_data"
    }
   ],
   "source": [
    "plt.figure(figsize=(8, 6))\n",
    "plt.plot(cv_results['param_C'], cv_results['mean_test_score'])\n",
    "plt.plot(cv_results['param_C'], cv_results['mean_train_score'])\n",
    "plt.xlabel('C')\n",
    "plt.ylabel('Recall')\n",
    "plt.legend(['test Recall', 'train Recall'], loc='upper left')\n",
    "plt.xscale('log')\n",
    "plt.show()"
   ]
  },
  {
   "cell_type": "code",
   "execution_count": 61,
   "metadata": {},
   "outputs": [
    {
     "name": "stdout",
     "output_type": "stream",
     "text": [
      " The highest test score is 0.5272959183673469 at C = 1000\n"
     ]
    }
   ],
   "source": [
    "#from the above graph we can conclude that Though the training accuracy monotonically increases with C, the test accuracy gradually reduces. Thus, we can conclude that higher values of C tend to overfit the model. This is because a high C value aims to classify all training examples correctly (since C is the cost of misclassification - if you impose a high cost on the model, it will avoid misclassifying any points by overfitting the data).\n",
    "#Let's finally look at the optimal C values found by GridSearchCV.\n",
    "best_score = model_cv.best_score_\n",
    "best_C = model_cv.best_params_['C']\n",
    "\n",
    "print(\" The highest test score is {0} at C = {1}\".format(best_score, best_C))"
   ]
  },
  {
   "cell_type": "code",
   "execution_count": 62,
   "metadata": {},
   "outputs": [],
   "source": [
    "# model with the best value of C\n",
    "model_1= SVC(C=best_C)\n",
    "\n",
    "# fit\n",
    "model_1.fit(tr_X, tr_Y)\n",
    "\n",
    "# predict\n",
    "y_pred1 = model_1.predict(te_X)"
   ]
  },
  {
   "cell_type": "code",
   "execution_count": 63,
   "metadata": {},
   "outputs": [
    {
     "name": "stdout",
     "output_type": "stream",
     "text": [
      "accuracy 0.7532467532467533\n",
      "precision 0.6538461538461539\n",
      "recall 0.6296296296296297\n"
     ]
    }
   ],
   "source": [
    "# accuracy\n",
    "print(\"accuracy\", metrics.accuracy_score(te_Y, y_pred1))\n",
    "\n",
    "# precision\n",
    "print(\"precision\", metrics.precision_score(te_Y, y_pred1))\n",
    "\n",
    "# recall/sensitivity\n",
    "print(\"recall\", metrics.recall_score(te_Y, y_pred1))\n"
   ]
  },
  {
   "cell_type": "code",
   "execution_count": 64,
   "metadata": {},
   "outputs": [],
   "source": [
    "#Now we will use Kernels to further improve the accuracy"
   ]
  },
  {
   "cell_type": "code",
   "execution_count": 65,
   "metadata": {},
   "outputs": [
    {
     "name": "stdout",
     "output_type": "stream",
     "text": [
      "recall: 0.5555555555555556\n"
     ]
    },
    {
     "data": {
      "text/plain": "array([[41,  9],\n       [12, 15]], dtype=int64)"
     },
     "execution_count": 65,
     "metadata": {},
     "output_type": "execute_result"
    }
   ],
   "source": [
    "# linear model\n",
    "\n",
    "model_linear = SVC(kernel='linear')\n",
    "model_linear.fit(tr_X,tr_Y)\n",
    "\n",
    "#predict\n",
    "y_predlinear = model_linear.predict(te_X)\n",
    "\n",
    "# accuracy\n",
    "print(\"recall:\", metrics.recall_score(te_Y,y_predlinear))\n",
    "\n",
    "# cm\n",
    "metrics.confusion_matrix(te_Y, y_predlinear)\n",
    "\n",
    "\n",
    "#metrics.confusion_matrix(y_true=te_Y, y_pred=y_pred)\n"
   ]
  },
  {
   "cell_type": "code",
   "execution_count": 66,
   "metadata": {},
   "outputs": [],
   "source": [
    "# non-linear model\n",
    "# using rbf kernel, C=1, default value of gamma\n",
    "\n",
    "# model\n",
    "non_linear_model = SVC(kernel='rbf')\n",
    "\n",
    "# fit\n",
    "non_linear_model.fit(tr_X,tr_Y)\n",
    "\n",
    "# predict\n",
    "y_predNonLinear = non_linear_model.predict(te_X)"
   ]
  },
  {
   "cell_type": "code",
   "execution_count": 67,
   "metadata": {},
   "outputs": [
    {
     "name": "stdout",
     "output_type": "stream",
     "text": [
      "Recall: 0.48148148148148145\n",
      "[[43  7]\n",
      " [14 13]]\n"
     ]
    }
   ],
   "source": [
    "print(\"Recall:\", metrics.recall_score(te_Y, y_predNonLinear ))\n",
    "\n",
    "# cm\n",
    "print(metrics.confusion_matrix(te_Y,y_predNonLinear ))"
   ]
  },
  {
   "cell_type": "code",
   "execution_count": 68,
   "metadata": {},
   "outputs": [
    {
     "name": "stdout",
     "output_type": "stream",
     "text": [
      "Fitting 5 folds for each of 12 candidates, totalling 60 fits\n"
     ]
    },
    {
     "data": {
      "text/plain": "GridSearchCV(cv=KFold(n_splits=5, random_state=101, shuffle=True),\n             estimator=SVC(C=1),\n             param_grid=[{'C': [1, 10, 100, 1000],\n                          'gamma': [0.01, 0.001, 0.0001]}],\n             return_train_score=True, scoring='accuracy', verbose=1)"
     },
     "execution_count": 68,
     "metadata": {},
     "output_type": "execute_result"
    }
   ],
   "source": [
    "# creating a KFold object with 5 splits \n",
    "folds = KFold(n_splits = 5, shuffle = True, random_state = 101)\n",
    "\n",
    "# specify range of hyperparameters\n",
    "# Set the parameters by cross-validation\n",
    "hyper_params = [ {'gamma': [1e-2, 1e-3, 1e-4],\n",
    "                     'C': [1, 10, 100, 1000]}]\n",
    "\n",
    "\n",
    "# specify model\n",
    "model_rbf = SVC(kernel=\"rbf\")\n",
    "\n",
    "# set up GridSearchCV()\n",
    "model_cv_new = GridSearchCV(estimator = model, \n",
    "                        param_grid = hyper_params, \n",
    "                        scoring= 'accuracy', \n",
    "                        cv = folds, \n",
    "                        verbose = 1,\n",
    "                        return_train_score=True)      \n",
    "\n",
    "# fit the model\n",
    "model_cv_new.fit(tr_X, tr_Y)   "
   ]
  },
  {
   "cell_type": "code",
   "execution_count": 69,
   "metadata": {},
   "outputs": [
    {
     "data": {
      "text/plain": "    mean_fit_time  std_fit_time  mean_score_time  std_score_time param_C  \\\n0        0.019286      0.005625         0.010845        0.002619       1   \n1        0.010970      0.002167         0.007632        0.001965       1   \n2        0.011868      0.003436         0.006620        0.004120       1   \n3        0.019743      0.002368         0.010749        0.003096      10   \n4        0.015137      0.004627         0.010081        0.001730      10   \n5        0.010527      0.001801         0.003638        0.004144      10   \n6        0.017557      0.003076         0.009265        0.001138     100   \n7        0.023254      0.004602         0.007422        0.004400     100   \n8        0.018449      0.003856         0.005744        0.004808     100   \n9        0.014631      0.003614         0.008780        0.003071    1000   \n10       0.050348      0.007810         0.004831        0.003691    1000   \n11       0.060103      0.007885         0.001845        0.002924    1000   \n\n   param_gamma                        params  split0_test_score  \\\n0         0.01       {'C': 1, 'gamma': 0.01}           0.719424   \n1        0.001      {'C': 1, 'gamma': 0.001}           0.755396   \n2       0.0001     {'C': 1, 'gamma': 0.0001}           0.784173   \n3         0.01      {'C': 10, 'gamma': 0.01}           0.690647   \n4        0.001     {'C': 10, 'gamma': 0.001}           0.705036   \n5       0.0001    {'C': 10, 'gamma': 0.0001}           0.762590   \n6         0.01     {'C': 100, 'gamma': 0.01}           0.697842   \n7        0.001    {'C': 100, 'gamma': 0.001}           0.654676   \n8       0.0001   {'C': 100, 'gamma': 0.0001}           0.726619   \n9         0.01    {'C': 1000, 'gamma': 0.01}           0.697842   \n10       0.001   {'C': 1000, 'gamma': 0.001}           0.676259   \n11      0.0001  {'C': 1000, 'gamma': 0.0001}           0.669065   \n\n    split1_test_score  split2_test_score  ...  mean_test_score  \\\n0            0.608696           0.710145  ...         0.694610   \n1            0.673913           0.768116  ...         0.723543   \n2            0.710145           0.775362  ...         0.755385   \n3            0.601449           0.695652  ...         0.665666   \n4            0.666667           0.731884  ...         0.707674   \n5            0.688406           0.768116  ...         0.740924   \n6            0.601449           0.695652  ...         0.668554   \n7            0.644928           0.681159  ...         0.664269   \n8            0.666667           0.760870  ...         0.723585   \n9            0.601449           0.695652  ...         0.668554   \n10           0.666667           0.644928  ...         0.665687   \n11           0.695652           0.760870  ...         0.723668   \n\n    std_test_score  rank_test_score  split0_train_score  split1_train_score  \\\n0         0.043316                7            0.961957            0.960217   \n1         0.034128                5            0.820652            0.833635   \n2         0.027206                1            0.764493            0.793852   \n3         0.039538               11            1.000000            1.000000   \n4         0.022665                6            0.891304            0.909584   \n5         0.028284                2            0.791667            0.808318   \n6         0.039580                8            1.000000            1.000000   \n7         0.014562               12            0.956522            0.960217   \n8         0.035936                4            0.813406            0.824593   \n9         0.039580                8            1.000000            1.000000   \n10        0.015763               10            0.985507            0.985533   \n11        0.036337                3            0.860507            0.862568   \n\n    split2_train_score  split3_train_score  split4_train_score  \\\n0             0.962025            0.958409            0.967450   \n1             0.824593            0.820976            0.837251   \n2             0.768535            0.777577            0.777577   \n3             1.000000            1.000000            1.000000   \n4             0.891501            0.891501            0.896926   \n5             0.788427            0.790235            0.792043   \n6             1.000000            1.000000            1.000000   \n7             0.951175            0.963834            0.956600   \n8             0.808318            0.824593            0.828210   \n9             1.000000            1.000000            1.000000   \n10            0.990958            0.985533            0.987342   \n11            0.840868            0.840868            0.851718   \n\n    mean_train_score  std_train_score  \n0           0.962012         0.003026  \n1           0.827422         0.006791  \n2           0.776407         0.010109  \n3           1.000000         0.000000  \n4           0.896163         0.007040  \n5           0.794138         0.007203  \n6           1.000000         0.000000  \n7           0.957670         0.004222  \n8           0.819824         0.007608  \n9           1.000000         0.000000  \n10          0.986975         0.002112  \n11          0.851306         0.009269  \n\n[12 rows x 22 columns]",
      "text/html": "<div>\n<style scoped>\n    .dataframe tbody tr th:only-of-type {\n        vertical-align: middle;\n    }\n\n    .dataframe tbody tr th {\n        vertical-align: top;\n    }\n\n    .dataframe thead th {\n        text-align: right;\n    }\n</style>\n<table border=\"1\" class=\"dataframe\">\n  <thead>\n    <tr style=\"text-align: right;\">\n      <th></th>\n      <th>mean_fit_time</th>\n      <th>std_fit_time</th>\n      <th>mean_score_time</th>\n      <th>std_score_time</th>\n      <th>param_C</th>\n      <th>param_gamma</th>\n      <th>params</th>\n      <th>split0_test_score</th>\n      <th>split1_test_score</th>\n      <th>split2_test_score</th>\n      <th>...</th>\n      <th>mean_test_score</th>\n      <th>std_test_score</th>\n      <th>rank_test_score</th>\n      <th>split0_train_score</th>\n      <th>split1_train_score</th>\n      <th>split2_train_score</th>\n      <th>split3_train_score</th>\n      <th>split4_train_score</th>\n      <th>mean_train_score</th>\n      <th>std_train_score</th>\n    </tr>\n  </thead>\n  <tbody>\n    <tr>\n      <th>0</th>\n      <td>0.019286</td>\n      <td>0.005625</td>\n      <td>0.010845</td>\n      <td>0.002619</td>\n      <td>1</td>\n      <td>0.01</td>\n      <td>{'C': 1, 'gamma': 0.01}</td>\n      <td>0.719424</td>\n      <td>0.608696</td>\n      <td>0.710145</td>\n      <td>...</td>\n      <td>0.694610</td>\n      <td>0.043316</td>\n      <td>7</td>\n      <td>0.961957</td>\n      <td>0.960217</td>\n      <td>0.962025</td>\n      <td>0.958409</td>\n      <td>0.967450</td>\n      <td>0.962012</td>\n      <td>0.003026</td>\n    </tr>\n    <tr>\n      <th>1</th>\n      <td>0.010970</td>\n      <td>0.002167</td>\n      <td>0.007632</td>\n      <td>0.001965</td>\n      <td>1</td>\n      <td>0.001</td>\n      <td>{'C': 1, 'gamma': 0.001}</td>\n      <td>0.755396</td>\n      <td>0.673913</td>\n      <td>0.768116</td>\n      <td>...</td>\n      <td>0.723543</td>\n      <td>0.034128</td>\n      <td>5</td>\n      <td>0.820652</td>\n      <td>0.833635</td>\n      <td>0.824593</td>\n      <td>0.820976</td>\n      <td>0.837251</td>\n      <td>0.827422</td>\n      <td>0.006791</td>\n    </tr>\n    <tr>\n      <th>2</th>\n      <td>0.011868</td>\n      <td>0.003436</td>\n      <td>0.006620</td>\n      <td>0.004120</td>\n      <td>1</td>\n      <td>0.0001</td>\n      <td>{'C': 1, 'gamma': 0.0001}</td>\n      <td>0.784173</td>\n      <td>0.710145</td>\n      <td>0.775362</td>\n      <td>...</td>\n      <td>0.755385</td>\n      <td>0.027206</td>\n      <td>1</td>\n      <td>0.764493</td>\n      <td>0.793852</td>\n      <td>0.768535</td>\n      <td>0.777577</td>\n      <td>0.777577</td>\n      <td>0.776407</td>\n      <td>0.010109</td>\n    </tr>\n    <tr>\n      <th>3</th>\n      <td>0.019743</td>\n      <td>0.002368</td>\n      <td>0.010749</td>\n      <td>0.003096</td>\n      <td>10</td>\n      <td>0.01</td>\n      <td>{'C': 10, 'gamma': 0.01}</td>\n      <td>0.690647</td>\n      <td>0.601449</td>\n      <td>0.695652</td>\n      <td>...</td>\n      <td>0.665666</td>\n      <td>0.039538</td>\n      <td>11</td>\n      <td>1.000000</td>\n      <td>1.000000</td>\n      <td>1.000000</td>\n      <td>1.000000</td>\n      <td>1.000000</td>\n      <td>1.000000</td>\n      <td>0.000000</td>\n    </tr>\n    <tr>\n      <th>4</th>\n      <td>0.015137</td>\n      <td>0.004627</td>\n      <td>0.010081</td>\n      <td>0.001730</td>\n      <td>10</td>\n      <td>0.001</td>\n      <td>{'C': 10, 'gamma': 0.001}</td>\n      <td>0.705036</td>\n      <td>0.666667</td>\n      <td>0.731884</td>\n      <td>...</td>\n      <td>0.707674</td>\n      <td>0.022665</td>\n      <td>6</td>\n      <td>0.891304</td>\n      <td>0.909584</td>\n      <td>0.891501</td>\n      <td>0.891501</td>\n      <td>0.896926</td>\n      <td>0.896163</td>\n      <td>0.007040</td>\n    </tr>\n    <tr>\n      <th>5</th>\n      <td>0.010527</td>\n      <td>0.001801</td>\n      <td>0.003638</td>\n      <td>0.004144</td>\n      <td>10</td>\n      <td>0.0001</td>\n      <td>{'C': 10, 'gamma': 0.0001}</td>\n      <td>0.762590</td>\n      <td>0.688406</td>\n      <td>0.768116</td>\n      <td>...</td>\n      <td>0.740924</td>\n      <td>0.028284</td>\n      <td>2</td>\n      <td>0.791667</td>\n      <td>0.808318</td>\n      <td>0.788427</td>\n      <td>0.790235</td>\n      <td>0.792043</td>\n      <td>0.794138</td>\n      <td>0.007203</td>\n    </tr>\n    <tr>\n      <th>6</th>\n      <td>0.017557</td>\n      <td>0.003076</td>\n      <td>0.009265</td>\n      <td>0.001138</td>\n      <td>100</td>\n      <td>0.01</td>\n      <td>{'C': 100, 'gamma': 0.01}</td>\n      <td>0.697842</td>\n      <td>0.601449</td>\n      <td>0.695652</td>\n      <td>...</td>\n      <td>0.668554</td>\n      <td>0.039580</td>\n      <td>8</td>\n      <td>1.000000</td>\n      <td>1.000000</td>\n      <td>1.000000</td>\n      <td>1.000000</td>\n      <td>1.000000</td>\n      <td>1.000000</td>\n      <td>0.000000</td>\n    </tr>\n    <tr>\n      <th>7</th>\n      <td>0.023254</td>\n      <td>0.004602</td>\n      <td>0.007422</td>\n      <td>0.004400</td>\n      <td>100</td>\n      <td>0.001</td>\n      <td>{'C': 100, 'gamma': 0.001}</td>\n      <td>0.654676</td>\n      <td>0.644928</td>\n      <td>0.681159</td>\n      <td>...</td>\n      <td>0.664269</td>\n      <td>0.014562</td>\n      <td>12</td>\n      <td>0.956522</td>\n      <td>0.960217</td>\n      <td>0.951175</td>\n      <td>0.963834</td>\n      <td>0.956600</td>\n      <td>0.957670</td>\n      <td>0.004222</td>\n    </tr>\n    <tr>\n      <th>8</th>\n      <td>0.018449</td>\n      <td>0.003856</td>\n      <td>0.005744</td>\n      <td>0.004808</td>\n      <td>100</td>\n      <td>0.0001</td>\n      <td>{'C': 100, 'gamma': 0.0001}</td>\n      <td>0.726619</td>\n      <td>0.666667</td>\n      <td>0.760870</td>\n      <td>...</td>\n      <td>0.723585</td>\n      <td>0.035936</td>\n      <td>4</td>\n      <td>0.813406</td>\n      <td>0.824593</td>\n      <td>0.808318</td>\n      <td>0.824593</td>\n      <td>0.828210</td>\n      <td>0.819824</td>\n      <td>0.007608</td>\n    </tr>\n    <tr>\n      <th>9</th>\n      <td>0.014631</td>\n      <td>0.003614</td>\n      <td>0.008780</td>\n      <td>0.003071</td>\n      <td>1000</td>\n      <td>0.01</td>\n      <td>{'C': 1000, 'gamma': 0.01}</td>\n      <td>0.697842</td>\n      <td>0.601449</td>\n      <td>0.695652</td>\n      <td>...</td>\n      <td>0.668554</td>\n      <td>0.039580</td>\n      <td>8</td>\n      <td>1.000000</td>\n      <td>1.000000</td>\n      <td>1.000000</td>\n      <td>1.000000</td>\n      <td>1.000000</td>\n      <td>1.000000</td>\n      <td>0.000000</td>\n    </tr>\n    <tr>\n      <th>10</th>\n      <td>0.050348</td>\n      <td>0.007810</td>\n      <td>0.004831</td>\n      <td>0.003691</td>\n      <td>1000</td>\n      <td>0.001</td>\n      <td>{'C': 1000, 'gamma': 0.001}</td>\n      <td>0.676259</td>\n      <td>0.666667</td>\n      <td>0.644928</td>\n      <td>...</td>\n      <td>0.665687</td>\n      <td>0.015763</td>\n      <td>10</td>\n      <td>0.985507</td>\n      <td>0.985533</td>\n      <td>0.990958</td>\n      <td>0.985533</td>\n      <td>0.987342</td>\n      <td>0.986975</td>\n      <td>0.002112</td>\n    </tr>\n    <tr>\n      <th>11</th>\n      <td>0.060103</td>\n      <td>0.007885</td>\n      <td>0.001845</td>\n      <td>0.002924</td>\n      <td>1000</td>\n      <td>0.0001</td>\n      <td>{'C': 1000, 'gamma': 0.0001}</td>\n      <td>0.669065</td>\n      <td>0.695652</td>\n      <td>0.760870</td>\n      <td>...</td>\n      <td>0.723668</td>\n      <td>0.036337</td>\n      <td>3</td>\n      <td>0.860507</td>\n      <td>0.862568</td>\n      <td>0.840868</td>\n      <td>0.840868</td>\n      <td>0.851718</td>\n      <td>0.851306</td>\n      <td>0.009269</td>\n    </tr>\n  </tbody>\n</table>\n<p>12 rows × 22 columns</p>\n</div>"
     },
     "execution_count": 69,
     "metadata": {},
     "output_type": "execute_result"
    }
   ],
   "source": [
    "cv_results_new = pd.DataFrame(model_cv_new.cv_results_)\n",
    "cv_results_new"
   ]
  },
  {
   "cell_type": "code",
   "execution_count": 70,
   "metadata": {},
   "outputs": [
    {
     "data": {
      "text/plain": "<Figure size 1152x432 with 3 Axes>",
      "image/png": "[encoded data removed]"
     },
     "metadata": {
      "needs_background": "light"
     },
     "output_type": "display_data"
    }
   ],
   "source": [
    "# converting C to numeric type for plotting on x-axis\n",
    "cv_results['param_C'] = cv_results['param_C'].astype('int')\n",
    "\n",
    "# # plotting\n",
    "plt.figure(figsize=(16,6))\n",
    "\n",
    "# subplot 1/3\n",
    "plt.subplot(131)\n",
    "gamma_01 = cv_results_new[cv_results_new['param_gamma']==0.01]\n",
    "\n",
    "plt.plot(gamma_01[\"param_C\"], gamma_01[\"mean_test_score\"])\n",
    "plt.plot(gamma_01[\"param_C\"], gamma_01[\"mean_train_score\"])\n",
    "plt.xlabel('C')\n",
    "plt.ylabel('Recall')\n",
    "plt.title(\"Gamma=0.01\")\n",
    "plt.ylim([0.60, 1])\n",
    "plt.legend(['test recall', 'train recall'], loc='upper left')\n",
    "plt.xscale('log')\n",
    "\n",
    "\n",
    "# subplot 2/3\n",
    "plt.subplot(132)\n",
    "gamma_01 = cv_results_new[cv_results_new['param_gamma']==0.001]\n",
    "\n",
    "plt.plot(gamma_01[\"param_C\"], gamma_01[\"mean_test_score\"])\n",
    "plt.plot(gamma_01[\"param_C\"], gamma_01[\"mean_train_score\"])\n",
    "plt.xlabel('C')\n",
    "plt.ylabel('Recall')\n",
    "plt.title(\"Gamma=0.001\")\n",
    "plt.ylim([0.60, 1])\n",
    "plt.legend(['test recall', 'train recall'], loc='upper left')\n",
    "plt.xscale('log')\n",
    "\n",
    "\n",
    "# subplot 3/3\n",
    "plt.subplot(133)\n",
    "gamma_01 = cv_results_new[cv_results_new['param_gamma']==0.0001]\n",
    "\n",
    "plt.plot(gamma_01[\"param_C\"], gamma_01[\"mean_test_score\"])\n",
    "plt.plot(gamma_01[\"param_C\"], gamma_01[\"mean_train_score\"])\n",
    "plt.xlabel('C')\n",
    "plt.ylabel('Recall')\n",
    "plt.title(\"Gamma=0.0001\")\n",
    "plt.ylim([0.60, 1])\n",
    "plt.legend(['test recall', 'train recall'], loc='upper left')\n",
    "plt.xscale('log')\n"
   ]
  },
  {
   "cell_type": "code",
   "execution_count": 71,
   "metadata": {},
   "outputs": [
    {
     "name": "stdout",
     "output_type": "stream",
     "text": [
      "The best test score is 0.7553852570117818 corresponding to hyperparameters {'C': 1, 'gamma': 0.0001}\n"
     ]
    }
   ],
   "source": [
    "# printing the optimal accuracy score and hyperparameters\n",
    "best_score = model_cv_new.best_score_\n",
    "best_hyperparams = model_cv_new.best_params_\n",
    "\n",
    "print(\"The best test score is {0} corresponding to hyperparameters {1}\".format(best_score, best_hyperparams))"
   ]
  },
  {
   "cell_type": "code",
   "execution_count": 72,
   "metadata": {},
   "outputs": [
    {
     "name": "stdout",
     "output_type": "stream",
     "text": [
      "recall 0.4074074074074074 \n",
      "\n",
      "[[47  3]\n",
      " [16 11]] \n",
      "\n"
     ]
    }
   ],
   "source": [
    "# model with optimal hyperparameters\n",
    "\n",
    "# model\n",
    "model_temp = SVC(C=100, gamma=0.01, kernel=\"rbf\")\n",
    "\n",
    "model_temp.fit(tr_X, tr_Y)\n",
    "y_p = model_temp.predict(te_X)\n",
    "\n",
    "# metrics\n",
    "print(\"recall\", metrics.recall_score(te_Y, y_p), \"\\n\")\n",
    "print(metrics.confusion_matrix(te_Y, y_p), \"\\n\")\n",
    "\n",
    "pickle.dump(model_temp, open(\"../models/SVM.pkl\",'wb'))"
   ]
  },
  {
   "cell_type": "code",
   "execution_count": 72,
   "metadata": {},
   "outputs": [],
   "source": []
  }
 ],
 "metadata": {
  "kernelspec": {
   "name": "pycharm-c5d7374f",
   "language": "python",
   "display_name": "PyCharm (Diabetes-Detection-Project)"
  },
  "language_info": {
   "codemirror_mode": {
    "name": "ipython",
    "version": 3
   },
   "file_extension": ".py",
   "mimetype": "text/x-python",
   "name": "python",
   "nbconvert_exporter": "python",
   "pygments_lexer": "ipython3",
   "version": "3.8.3"
  }
 },
 "nbformat": 4,
 "nbformat_minor": 4
}