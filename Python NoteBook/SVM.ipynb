{
 "cells": [
  {
   "cell_type": "code",
   "execution_count": 74,
   "metadata": {},
   "outputs": [
    {
     "data": {
      "text/html": [
       "<div>\n",
       "<style scoped>\n",
       "    .dataframe tbody tr th:only-of-type {\n",
       "        vertical-align: middle;\n",
       "    }\n",
       "\n",
       "    .dataframe tbody tr th {\n",
       "        vertical-align: top;\n",
       "    }\n",
       "\n",
       "    .dataframe thead th {\n",
       "        text-align: right;\n",
       "    }\n",
       "</style>\n",
       "<table border=\"1\" class=\"dataframe\">\n",
       "  <thead>\n",
       "    <tr style=\"text-align: right;\">\n",
       "      <th></th>\n",
       "      <th>0</th>\n",
       "      <th>1</th>\n",
       "      <th>2</th>\n",
       "      <th>3</th>\n",
       "      <th>4</th>\n",
       "    </tr>\n",
       "  </thead>\n",
       "  <tbody>\n",
       "    <tr>\n",
       "      <th>Pregnancies</th>\n",
       "      <td>6.000</td>\n",
       "      <td>1.000</td>\n",
       "      <td>8.000</td>\n",
       "      <td>1.000</td>\n",
       "      <td>0.000</td>\n",
       "    </tr>\n",
       "    <tr>\n",
       "      <th>Glucose</th>\n",
       "      <td>148.000</td>\n",
       "      <td>85.000</td>\n",
       "      <td>183.000</td>\n",
       "      <td>89.000</td>\n",
       "      <td>137.000</td>\n",
       "    </tr>\n",
       "    <tr>\n",
       "      <th>BloodPressure</th>\n",
       "      <td>72.000</td>\n",
       "      <td>66.000</td>\n",
       "      <td>64.000</td>\n",
       "      <td>66.000</td>\n",
       "      <td>40.000</td>\n",
       "    </tr>\n",
       "    <tr>\n",
       "      <th>SkinThickness</th>\n",
       "      <td>35.000</td>\n",
       "      <td>29.000</td>\n",
       "      <td>0.000</td>\n",
       "      <td>23.000</td>\n",
       "      <td>35.000</td>\n",
       "    </tr>\n",
       "    <tr>\n",
       "      <th>Insulin</th>\n",
       "      <td>0.000</td>\n",
       "      <td>0.000</td>\n",
       "      <td>0.000</td>\n",
       "      <td>94.000</td>\n",
       "      <td>168.000</td>\n",
       "    </tr>\n",
       "    <tr>\n",
       "      <th>BMI</th>\n",
       "      <td>33.600</td>\n",
       "      <td>26.600</td>\n",
       "      <td>23.300</td>\n",
       "      <td>28.100</td>\n",
       "      <td>43.100</td>\n",
       "    </tr>\n",
       "    <tr>\n",
       "      <th>DiabetesPedigreeFunction</th>\n",
       "      <td>0.627</td>\n",
       "      <td>0.351</td>\n",
       "      <td>0.672</td>\n",
       "      <td>0.167</td>\n",
       "      <td>2.288</td>\n",
       "    </tr>\n",
       "    <tr>\n",
       "      <th>Age</th>\n",
       "      <td>50.000</td>\n",
       "      <td>31.000</td>\n",
       "      <td>32.000</td>\n",
       "      <td>21.000</td>\n",
       "      <td>33.000</td>\n",
       "    </tr>\n",
       "    <tr>\n",
       "      <th>Outcome</th>\n",
       "      <td>1.000</td>\n",
       "      <td>0.000</td>\n",
       "      <td>1.000</td>\n",
       "      <td>0.000</td>\n",
       "      <td>1.000</td>\n",
       "    </tr>\n",
       "  </tbody>\n",
       "</table>\n",
       "</div>"
      ],
      "text/plain": [
       "                                0       1        2       3        4\n",
       "Pregnancies                 6.000   1.000    8.000   1.000    0.000\n",
       "Glucose                   148.000  85.000  183.000  89.000  137.000\n",
       "BloodPressure              72.000  66.000   64.000  66.000   40.000\n",
       "SkinThickness              35.000  29.000    0.000  23.000   35.000\n",
       "Insulin                     0.000   0.000    0.000  94.000  168.000\n",
       "BMI                        33.600  26.600   23.300  28.100   43.100\n",
       "DiabetesPedigreeFunction    0.627   0.351    0.672   0.167    2.288\n",
       "Age                        50.000  31.000   32.000  21.000   33.000\n",
       "Outcome                     1.000   0.000    1.000   0.000    1.000"
      ]
     },
     "execution_count": 74,
     "metadata": {},
     "output_type": "execute_result"
    }
   ],
   "source": [
    "from sklearn.model_selection import KFold\n",
    "import pandas as pd\n",
    "import numpy as np\n",
    "from sklearn.ensemble import GradientBoostingClassifier\n",
    "from sklearn.preprocessing import StandardScaler\n",
    "from sklearn.metrics import mean_squared_error, mean_absolute_error, precision_score, recall_score, roc_auc_score\n",
    "from sklearn.model_selection import train_test_split as tts\n",
    "# read training data pp-trial3\n",
    "diabetes_train = pd.read_csv(\"ML_Project/content/sample_data/Pima Indians Diabetes Dataset - diabetes.csv\")\n",
    "diabetes_train.head().transpose()\n"
   ]
  },
  {
   "cell_type": "code",
   "execution_count": 75,
   "metadata": {},
   "outputs": [],
   "source": [
    "# Glucose\n",
    "diabetes_train['Glucose'].replace(0,np.NaN,inplace=True)\n",
    "mean_Glucose=diabetes_train['Glucose'].mean()\n",
    "diabetes_train['Glucose'].fillna(mean_Glucose, inplace = True)"
   ]
  },
  {
   "cell_type": "code",
   "execution_count": 76,
   "metadata": {},
   "outputs": [],
   "source": [
    "# BloodPressure\n",
    "diabetes_train['BloodPressure'].replace(0,np.NaN,inplace=True)\n",
    "mean_BloodPressure=diabetes_train['BloodPressure'].mean()\n",
    "diabetes_train['BloodPressure'].fillna(mean_BloodPressure, inplace = True)"
   ]
  },
  {
   "cell_type": "code",
   "execution_count": 77,
   "metadata": {},
   "outputs": [],
   "source": [
    "# SkinThickness\n",
    "diabetes_train['SkinThickness'].replace(0,np.NaN,inplace=True)\n",
    "mean_SkinThickness=diabetes_train['SkinThickness'].mean()\n",
    "diabetes_train['SkinThickness'].fillna(mean_SkinThickness, inplace = True)"
   ]
  },
  {
   "cell_type": "code",
   "execution_count": 78,
   "metadata": {},
   "outputs": [],
   "source": [
    "# Insulin\n",
    "diabetes_train['Insulin'].replace(0,np.NaN,inplace=True)\n",
    "mean_Insulin=diabetes_train['Insulin'].mean()\n",
    "diabetes_train['Insulin'].fillna(mean_Insulin, inplace = True)"
   ]
  },
  {
   "cell_type": "code",
   "execution_count": 79,
   "metadata": {},
   "outputs": [],
   "source": [
    "# BMI\n",
    "diabetes_train['BMI'].replace(0,np.NaN,inplace=True)\n",
    "mean_BMI=diabetes_train['BMI'].mean()\n",
    "diabetes_train['BMI'].fillna(mean_BMI, inplace = True)"
   ]
  },
  {
   "cell_type": "code",
   "execution_count": 80,
   "metadata": {},
   "outputs": [],
   "source": [
    "StSc=StandardScaler()"
   ]
  },
  {
   "cell_type": "code",
   "execution_count": 81,
   "metadata": {},
   "outputs": [
    {
     "name": "stdout",
     "output_type": "stream",
     "text": [
      "   Pregnancies  Glucose  BloodPressure  SkinThickness     Insulin   BMI  \\\n",
      "0            6    148.0           72.0       35.00000  155.548223  33.6   \n",
      "1            1     85.0           66.0       29.00000  155.548223  26.6   \n",
      "2            8    183.0           64.0       29.15342  155.548223  23.3   \n",
      "3            1     89.0           66.0       23.00000   94.000000  28.1   \n",
      "4            0    137.0           40.0       35.00000  168.000000  43.1   \n",
      "\n",
      "   DiabetesPedigreeFunction  Age  \n",
      "0                     0.627   50  \n",
      "1                     0.351   31  \n",
      "2                     0.672   32  \n",
      "3                     0.167   21  \n",
      "4                     2.288   33  \n",
      "   Pregnancies   Glucose  BloodPressure  SkinThickness       Insulin  \\\n",
      "0     0.639947  0.865108      -0.033518   6.655021e-01 -3.345079e-16   \n",
      "1    -0.844885 -1.206162      -0.529859  -1.746338e-02 -3.345079e-16   \n",
      "2     1.233880  2.015813      -0.695306   8.087936e-16 -3.345079e-16   \n",
      "3    -0.844885 -1.074652      -0.529859  -7.004289e-01 -7.243887e-01   \n",
      "4    -1.141852  0.503458      -2.680669   6.655021e-01  1.465506e-01   \n",
      "\n",
      "        BMI  DiabetesPedigreeFunction       Age  \n",
      "0  0.166292                  0.468492  1.425995  \n",
      "1 -0.852531                 -0.365061 -0.190672  \n",
      "2 -1.332833                  0.604397 -0.105584  \n",
      "3 -0.634212                 -0.920763 -1.041549  \n",
      "4  1.548980                  5.484909 -0.020496  \n"
     ]
    }
   ],
   "source": [
    "features_X=diabetes_train.drop([\"Outcome\"],axis = 1)\n",
    "print(features_X.head())\n",
    "features_X=  pd.DataFrame(StSc.fit_transform(features_X),columns=['Pregnancies', 'Glucose', 'BloodPressure', 'SkinThickness', 'Insulin','BMI', 'DiabetesPedigreeFunction', 'Age'])\n",
    "print(features_X.head())"
   ]
  },
  {
   "cell_type": "code",
   "execution_count": 82,
   "metadata": {},
   "outputs": [
    {
     "name": "stdout",
     "output_type": "stream",
     "text": [
      "0      1\n",
      "1      0\n",
      "2      1\n",
      "3      0\n",
      "4      1\n",
      "      ..\n",
      "763    0\n",
      "764    0\n",
      "765    0\n",
      "766    1\n",
      "767    0\n",
      "Name: Outcome, Length: 768, dtype: int64\n"
     ]
    }
   ],
   "source": [
    "observation_Y=diabetes_train['Outcome']\n",
    "print(observation_Y)"
   ]
  },
  {
   "cell_type": "code",
   "execution_count": 83,
   "metadata": {},
   "outputs": [],
   "source": [
    "tr_X, te_X, tr_Y,te_Y=tts(features_X,observation_Y, test_size=0.1, random_state=42, stratify=observation_Y)"
   ]
  },
  {
   "cell_type": "code",
   "execution_count": 84,
   "metadata": {},
   "outputs": [
    {
     "name": "stdout",
     "output_type": "stream",
     "text": [
      "Train X Size: (691, 8)\n",
      "Test X Size: (77, 8)\n",
      "Train Y Size: (691,)\n",
      "Test Y Size: (77,)\n"
     ]
    }
   ],
   "source": [
    "print(\"Train X Size:\",tr_X.shape)\n",
    "print(\"Test X Size:\",te_X.shape)\n",
    "print(\"Train Y Size:\",tr_Y.shape)\n",
    "print(\"Test Y Size:\",te_Y.shape)"
   ]
  },
  {
   "cell_type": "code",
   "execution_count": 85,
   "metadata": {},
   "outputs": [],
   "source": [
    "from sklearn.svm import SVC"
   ]
  },
  {
   "cell_type": "code",
   "execution_count": 86,
   "metadata": {},
   "outputs": [],
   "source": [
    "model = SVC(C=1)"
   ]
  },
  {
   "cell_type": "code",
   "execution_count": 87,
   "metadata": {},
   "outputs": [
    {
     "data": {
      "text/plain": [
       "SVC(C=1)"
      ]
     },
     "execution_count": 87,
     "metadata": {},
     "output_type": "execute_result"
    }
   ],
   "source": [
    "model.fit(tr_X, tr_Y)"
   ]
  },
  {
   "cell_type": "code",
   "execution_count": 88,
   "metadata": {},
   "outputs": [],
   "source": [
    "y_pred = model.predict(te_X) "
   ]
  },
  {
   "cell_type": "code",
   "execution_count": 89,
   "metadata": {},
   "outputs": [
    {
     "data": {
      "text/plain": [
       "array([[43,  7],\n",
       "       [13, 14]], dtype=int64)"
      ]
     },
     "execution_count": 89,
     "metadata": {},
     "output_type": "execute_result"
    }
   ],
   "source": [
    "from sklearn import metrics\n",
    "metrics.confusion_matrix(y_true=te_Y, y_pred=y_pred)"
   ]
  },
  {
   "cell_type": "code",
   "execution_count": 90,
   "metadata": {},
   "outputs": [
    {
     "name": "stdout",
     "output_type": "stream",
     "text": [
      "accuracy 0.7402597402597403\n",
      "precision 0.6666666666666666\n",
      "recall 0.5185185185185185\n"
     ]
    }
   ],
   "source": [
    "\n",
    "\n",
    "# accuracy\n",
    "print(\"accuracy\", metrics.accuracy_score(te_Y, y_pred))\n",
    "\n",
    "# precision\n",
    "print(\"precision\", metrics.precision_score(te_Y, y_pred))\n",
    "\n",
    "# recall/sensitivity\n",
    "print(\"recall\", metrics.recall_score(te_Y, y_pred))"
   ]
  },
  {
   "cell_type": "code",
   "execution_count": 91,
   "metadata": {},
   "outputs": [],
   "source": [
    "n_folds = 5"
   ]
  },
  {
   "cell_type": "code",
   "execution_count": 92,
   "metadata": {},
   "outputs": [],
   "source": [
    "params = {\"C\": [0.1, 1, 10,100,1000]}"
   ]
  },
  {
   "cell_type": "code",
   "execution_count": 93,
   "metadata": {},
   "outputs": [],
   "source": [
    "linear_model = SVC()"
   ]
  },
  {
   "cell_type": "code",
   "execution_count": 94,
   "metadata": {},
   "outputs": [],
   "source": [
    "model_cv = GridSearchCV(estimator = linear_model, \n",
    "                        param_grid = params, \n",
    "                        scoring= 'accuracy', \n",
    "                        cv = n_folds, \n",
    "                        verbose = 1,\n",
    "                      return_train_score=True)   "
   ]
  },
  {
   "cell_type": "code",
   "execution_count": 95,
   "metadata": {},
   "outputs": [
    {
     "name": "stdout",
     "output_type": "stream",
     "text": [
      "Fitting 5 folds for each of 5 candidates, totalling 25 fits\n"
     ]
    },
    {
     "name": "stderr",
     "output_type": "stream",
     "text": [
      "[Parallel(n_jobs=1)]: Using backend SequentialBackend with 1 concurrent workers.\n",
      "[Parallel(n_jobs=1)]: Done  25 out of  25 | elapsed:    0.6s finished\n"
     ]
    },
    {
     "data": {
      "text/plain": [
       "GridSearchCV(cv=5, estimator=SVC(), param_grid={'C': [0.1, 1, 10, 100, 1000]},\n",
       "             return_train_score=True, scoring='accuracy', verbose=1)"
      ]
     },
     "execution_count": 95,
     "metadata": {},
     "output_type": "execute_result"
    }
   ],
   "source": [
    "model_cv.fit(tr_X,tr_Y)"
   ]
  },
  {
   "cell_type": "code",
   "execution_count": 96,
   "metadata": {},
   "outputs": [
    {
     "name": "stdout",
     "output_type": "stream",
     "text": [
      "   mean_fit_time  std_fit_time  mean_score_time  std_score_time param_C  \\\n",
      "0       0.008602      0.001853         0.002803        0.000401     0.1   \n",
      "1       0.007600      0.000490         0.002600        0.000490       1   \n",
      "2       0.010596      0.000491         0.002603        0.000798      10   \n",
      "3       0.024402      0.001497         0.002600        0.000490     100   \n",
      "4       0.055406      0.008710         0.002801        0.000400    1000   \n",
      "\n",
      "        params  split0_test_score  split1_test_score  split2_test_score  \\\n",
      "0   {'C': 0.1}           0.719424           0.753623           0.782609   \n",
      "1     {'C': 1}           0.726619           0.804348           0.775362   \n",
      "2    {'C': 10}           0.712230           0.746377           0.717391   \n",
      "3   {'C': 100}           0.697842           0.688406           0.644928   \n",
      "4  {'C': 1000}           0.683453           0.666667           0.652174   \n",
      "\n",
      "   split3_test_score  ...  mean_test_score  std_test_score  rank_test_score  \\\n",
      "0           0.760870  ...         0.746783        0.025064                2   \n",
      "1           0.797101  ...         0.769961        0.029607                1   \n",
      "2           0.746377  ...         0.727953        0.015160                3   \n",
      "3           0.652174  ...         0.672902        0.020702                4   \n",
      "4           0.681159  ...         0.665676        0.015294                5   \n",
      "\n",
      "   split0_train_score  split1_train_score  split2_train_score  \\\n",
      "0            0.778986            0.759494            0.761302   \n",
      "1            0.836957            0.819168            0.822785   \n",
      "2            0.876812            0.880651            0.884268   \n",
      "3            0.974638            0.956600            0.965642   \n",
      "4            1.000000            0.994575            0.996383   \n",
      "\n",
      "   split3_train_score  split4_train_score  mean_train_score  std_train_score  \n",
      "0            0.759494            0.783002          0.768455         0.010337  \n",
      "1            0.835443            0.839060          0.830682         0.008089  \n",
      "2            0.886076            0.886076          0.882776         0.003580  \n",
      "3            0.962025            0.965642          0.964909         0.005883  \n",
      "4            1.000000            1.000000          0.998192         0.002287  \n",
      "\n",
      "[5 rows x 21 columns]\n"
     ]
    }
   ],
   "source": [
    "cv_results = model_cv.cv_results_\n",
    "print(pd.DataFrame(model_cv.cv_results_))"
   ]
  },
  {
   "cell_type": "code",
   "execution_count": 97,
   "metadata": {},
   "outputs": [
    {
     "data": {
      "image/png": "[encoded data removed]",
      "text/plain": [
       "<Figure size 576x432 with 1 Axes>"
      ]
     },
     "metadata": {
      "needs_background": "light"
     },
     "output_type": "display_data"
    }
   ],
   "source": [
    "plt.figure(figsize=(8, 6))\n",
    "plt.plot(cv_results['param_C'], cv_results['mean_test_score'])\n",
    "plt.plot(cv_results['param_C'], cv_results['mean_train_score'])\n",
    "plt.xlabel('C')\n",
    "plt.ylabel('Accuracy')\n",
    "plt.legend(['test accuracy', 'train accuracy'], loc='upper left')\n",
    "plt.xscale('log')\n",
    "plt.show()"
   ]
  },
  {
   "cell_type": "code",
   "execution_count": 98,
   "metadata": {},
   "outputs": [
    {
     "name": "stdout",
     "output_type": "stream",
     "text": [
      " The highest test accuracy is 0.7699614221666146 at C = 1\n"
     ]
    }
   ],
   "source": [
    "#from the above graph we can conclude that Though the training accuracy monotonically increases with C, the test accuracy gradually reduces. Thus, we can conclude that higher values of C tend to overfit the model. This is because a high C value aims to classify all training examples correctly (since C is the cost of misclassification - if you impose a high cost on the model, it will avoid misclassifying any points by overfitting the data).\n",
    "#Let's finally look at the optimal C values found by GridSearchCV.\n",
    "best_score = model_cv.best_score_\n",
    "best_C = model_cv.best_params_['C']\n",
    "\n",
    "print(\" The highest test accuracy is {0} at C = {1}\".format(best_score, best_C))"
   ]
  },
  {
   "cell_type": "code",
   "execution_count": 99,
   "metadata": {},
   "outputs": [],
   "source": [
    "# model with the best value of C\n",
    "model_1= SVC(C=best_C)\n",
    "\n",
    "# fit\n",
    "model_1.fit(tr_X, tr_Y)\n",
    "\n",
    "# predict\n",
    "y_pred1 = model_1.predict(te_X)"
   ]
  },
  {
   "cell_type": "code",
   "execution_count": 100,
   "metadata": {},
   "outputs": [
    {
     "name": "stdout",
     "output_type": "stream",
     "text": [
      "accuracy 0.7402597402597403\n",
      "precision 0.6666666666666666\n",
      "recall 0.5185185185185185\n"
     ]
    }
   ],
   "source": [
    "# accuracy\n",
    "print(\"accuracy\", metrics.accuracy_score(te_Y, y_pred1))\n",
    "\n",
    "# precision\n",
    "print(\"precision\", metrics.precision_score(te_Y, y_pred1))\n",
    "\n",
    "# recall/sensitivity\n",
    "print(\"recall\", metrics.recall_score(te_Y, y_pred1))\n"
   ]
  },
  {
   "cell_type": "code",
   "execution_count": 101,
   "metadata": {},
   "outputs": [],
   "source": [
    "#Now we will use Kernels to further improve the accuracy"
   ]
  },
  {
   "cell_type": "code",
   "execution_count": 102,
   "metadata": {},
   "outputs": [
    {
     "name": "stdout",
     "output_type": "stream",
     "text": [
      "accuracy: 0.7272727272727273\n"
     ]
    },
    {
     "data": {
      "text/plain": [
       "array([[41,  9],\n",
       "       [12, 15]], dtype=int64)"
      ]
     },
     "execution_count": 102,
     "metadata": {},
     "output_type": "execute_result"
    }
   ],
   "source": [
    "# linear model\n",
    "\n",
    "model_linear = SVC(kernel='linear')\n",
    "model_linear.fit(tr_X,tr_Y)\n",
    "\n",
    "#predict\n",
    "y_predlinear = model_linear.predict(te_X)\n",
    "\n",
    "# accuracy\n",
    "print(\"accuracy:\", metrics.accuracy_score(te_Y,y_predlinear))\n",
    "\n",
    "# cm\n",
    "metrics.confusion_matrix(te_Y, y_predlinear)\n",
    "\n",
    "\n",
    "#metrics.confusion_matrix(y_true=te_Y, y_pred=y_pred)\n"
   ]
  },
  {
   "cell_type": "code",
   "execution_count": 103,
   "metadata": {},
   "outputs": [],
   "source": [
    "# non-linear model\n",
    "# using rbf kernel, C=1, default value of gamma\n",
    "\n",
    "# model\n",
    "non_linear_model = SVC(kernel='rbf')\n",
    "\n",
    "# fit\n",
    "non_linear_model.fit(tr_X,tr_Y)\n",
    "\n",
    "# predict\n",
    "y_predNonLinear = non_linear_model.predict(te_X)"
   ]
  },
  {
   "cell_type": "code",
   "execution_count": 104,
   "metadata": {},
   "outputs": [
    {
     "name": "stdout",
     "output_type": "stream",
     "text": [
      "accuracy: 0.7402597402597403\n",
      "[[43  7]\n",
      " [13 14]]\n"
     ]
    }
   ],
   "source": [
    "print(\"accuracy:\", metrics.accuracy_score(te_Y, y_predNonLinear ))\n",
    "\n",
    "# cm\n",
    "print(metrics.confusion_matrix(te_Y,y_predNonLinear ))"
   ]
  },
  {
   "cell_type": "code",
   "execution_count": 126,
   "metadata": {},
   "outputs": [
    {
     "name": "stdout",
     "output_type": "stream",
     "text": [
      "Fitting 5 folds for each of 12 candidates, totalling 60 fits\n"
     ]
    },
    {
     "name": "stderr",
     "output_type": "stream",
     "text": [
      "[Parallel(n_jobs=1)]: Using backend SequentialBackend with 1 concurrent workers.\n",
      "[Parallel(n_jobs=1)]: Done  60 out of  60 | elapsed:    1.1s finished\n"
     ]
    },
    {
     "data": {
      "text/plain": [
       "GridSearchCV(cv=KFold(n_splits=5, random_state=101, shuffle=True),\n",
       "             estimator=SVC(C=1),\n",
       "             param_grid=[{'C': [1, 10, 100, 1000],\n",
       "                          'gamma': [0.01, 0.001, 0.0001]}],\n",
       "             return_train_score=True, scoring='accuracy', verbose=1)"
      ]
     },
     "execution_count": 126,
     "metadata": {},
     "output_type": "execute_result"
    }
   ],
   "source": [
    "# creating a KFold object with 5 splits \n",
    "folds = KFold(n_splits = 5, shuffle = True, random_state = 101)\n",
    "\n",
    "# specify range of hyperparameters\n",
    "# Set the parameters by cross-validation\n",
    "hyper_params = [ {'gamma': [1e-2, 1e-3, 1e-4],\n",
    "                     'C': [1, 10, 100, 1000]}]\n",
    "\n",
    "\n",
    "# specify model\n",
    "model_rbf = SVC(kernel=\"rbf\")\n",
    "\n",
    "# set up GridSearchCV()\n",
    "model_cv_new = GridSearchCV(estimator = model, \n",
    "                        param_grid = hyper_params, \n",
    "                        scoring= 'accuracy', \n",
    "                        cv = folds, \n",
    "                        verbose = 1,\n",
    "                        return_train_score=True)      \n",
    "\n",
    "# fit the model\n",
    "model_cv_new.fit(tr_X, tr_Y)   "
   ]
  },
  {
   "cell_type": "code",
   "execution_count": 127,
   "metadata": {},
   "outputs": [
    {
     "data": {
      "text/html": [
       "<div>\n",
       "<style scoped>\n",
       "    .dataframe tbody tr th:only-of-type {\n",
       "        vertical-align: middle;\n",
       "    }\n",
       "\n",
       "    .dataframe tbody tr th {\n",
       "        vertical-align: top;\n",
       "    }\n",
       "\n",
       "    .dataframe thead th {\n",
       "        text-align: right;\n",
       "    }\n",
       "</style>\n",
       "<table border=\"1\" class=\"dataframe\">\n",
       "  <thead>\n",
       "    <tr style=\"text-align: right;\">\n",
       "      <th></th>\n",
       "      <th>mean_fit_time</th>\n",
       "      <th>std_fit_time</th>\n",
       "      <th>mean_score_time</th>\n",
       "      <th>std_score_time</th>\n",
       "      <th>param_C</th>\n",
       "      <th>param_gamma</th>\n",
       "      <th>params</th>\n",
       "      <th>split0_test_score</th>\n",
       "      <th>split1_test_score</th>\n",
       "      <th>split2_test_score</th>\n",
       "      <th>...</th>\n",
       "      <th>mean_test_score</th>\n",
       "      <th>std_test_score</th>\n",
       "      <th>rank_test_score</th>\n",
       "      <th>split0_train_score</th>\n",
       "      <th>split1_train_score</th>\n",
       "      <th>split2_train_score</th>\n",
       "      <th>split3_train_score</th>\n",
       "      <th>split4_train_score</th>\n",
       "      <th>mean_train_score</th>\n",
       "      <th>std_train_score</th>\n",
       "    </tr>\n",
       "  </thead>\n",
       "  <tbody>\n",
       "    <tr>\n",
       "      <th>0</th>\n",
       "      <td>0.008398</td>\n",
       "      <td>0.002328</td>\n",
       "      <td>0.002600</td>\n",
       "      <td>0.000800</td>\n",
       "      <td>1</td>\n",
       "      <td>0.01</td>\n",
       "      <td>{'C': 1, 'gamma': 0.01}</td>\n",
       "      <td>0.776978</td>\n",
       "      <td>0.731884</td>\n",
       "      <td>0.789855</td>\n",
       "      <td>...</td>\n",
       "      <td>0.762642</td>\n",
       "      <td>0.028555</td>\n",
       "      <td>7</td>\n",
       "      <td>0.775362</td>\n",
       "      <td>0.786618</td>\n",
       "      <td>0.775769</td>\n",
       "      <td>0.773960</td>\n",
       "      <td>0.788427</td>\n",
       "      <td>0.780027</td>\n",
       "      <td>0.006176</td>\n",
       "    </tr>\n",
       "    <tr>\n",
       "      <th>1</th>\n",
       "      <td>0.007604</td>\n",
       "      <td>0.000493</td>\n",
       "      <td>0.002400</td>\n",
       "      <td>0.000490</td>\n",
       "      <td>1</td>\n",
       "      <td>0.001</td>\n",
       "      <td>{'C': 1, 'gamma': 0.001}</td>\n",
       "      <td>0.697842</td>\n",
       "      <td>0.557971</td>\n",
       "      <td>0.688406</td>\n",
       "      <td>...</td>\n",
       "      <td>0.671452</td>\n",
       "      <td>0.064434</td>\n",
       "      <td>11</td>\n",
       "      <td>0.682971</td>\n",
       "      <td>0.674503</td>\n",
       "      <td>0.688969</td>\n",
       "      <td>0.678119</td>\n",
       "      <td>0.690778</td>\n",
       "      <td>0.683068</td>\n",
       "      <td>0.006199</td>\n",
       "    </tr>\n",
       "    <tr>\n",
       "      <th>2</th>\n",
       "      <td>0.008553</td>\n",
       "      <td>0.001771</td>\n",
       "      <td>0.003000</td>\n",
       "      <td>0.000633</td>\n",
       "      <td>1</td>\n",
       "      <td>0.0001</td>\n",
       "      <td>{'C': 1, 'gamma': 0.0001}</td>\n",
       "      <td>0.683453</td>\n",
       "      <td>0.557971</td>\n",
       "      <td>0.659420</td>\n",
       "      <td>...</td>\n",
       "      <td>0.651183</td>\n",
       "      <td>0.051601</td>\n",
       "      <td>12</td>\n",
       "      <td>0.643116</td>\n",
       "      <td>0.674503</td>\n",
       "      <td>0.649186</td>\n",
       "      <td>0.652803</td>\n",
       "      <td>0.636528</td>\n",
       "      <td>0.651227</td>\n",
       "      <td>0.012886</td>\n",
       "    </tr>\n",
       "    <tr>\n",
       "      <th>3</th>\n",
       "      <td>0.008200</td>\n",
       "      <td>0.000399</td>\n",
       "      <td>0.002401</td>\n",
       "      <td>0.000489</td>\n",
       "      <td>10</td>\n",
       "      <td>0.01</td>\n",
       "      <td>{'C': 10, 'gamma': 0.01}</td>\n",
       "      <td>0.769784</td>\n",
       "      <td>0.731884</td>\n",
       "      <td>0.782609</td>\n",
       "      <td>...</td>\n",
       "      <td>0.761203</td>\n",
       "      <td>0.017301</td>\n",
       "      <td>8</td>\n",
       "      <td>0.795290</td>\n",
       "      <td>0.790235</td>\n",
       "      <td>0.788427</td>\n",
       "      <td>0.795660</td>\n",
       "      <td>0.797468</td>\n",
       "      <td>0.793416</td>\n",
       "      <td>0.003464</td>\n",
       "    </tr>\n",
       "    <tr>\n",
       "      <th>4</th>\n",
       "      <td>0.007600</td>\n",
       "      <td>0.000800</td>\n",
       "      <td>0.002601</td>\n",
       "      <td>0.000490</td>\n",
       "      <td>10</td>\n",
       "      <td>0.001</td>\n",
       "      <td>{'C': 10, 'gamma': 0.001}</td>\n",
       "      <td>0.805755</td>\n",
       "      <td>0.724638</td>\n",
       "      <td>0.782609</td>\n",
       "      <td>...</td>\n",
       "      <td>0.766948</td>\n",
       "      <td>0.032544</td>\n",
       "      <td>3</td>\n",
       "      <td>0.768116</td>\n",
       "      <td>0.783002</td>\n",
       "      <td>0.777577</td>\n",
       "      <td>0.772152</td>\n",
       "      <td>0.781193</td>\n",
       "      <td>0.776408</td>\n",
       "      <td>0.005561</td>\n",
       "    </tr>\n",
       "    <tr>\n",
       "      <th>5</th>\n",
       "      <td>0.007600</td>\n",
       "      <td>0.000490</td>\n",
       "      <td>0.002801</td>\n",
       "      <td>0.000400</td>\n",
       "      <td>10</td>\n",
       "      <td>0.0001</td>\n",
       "      <td>{'C': 10, 'gamma': 0.0001}</td>\n",
       "      <td>0.697842</td>\n",
       "      <td>0.557971</td>\n",
       "      <td>0.688406</td>\n",
       "      <td>...</td>\n",
       "      <td>0.672902</td>\n",
       "      <td>0.064228</td>\n",
       "      <td>10</td>\n",
       "      <td>0.688406</td>\n",
       "      <td>0.676311</td>\n",
       "      <td>0.692586</td>\n",
       "      <td>0.679928</td>\n",
       "      <td>0.694394</td>\n",
       "      <td>0.686325</td>\n",
       "      <td>0.007069</td>\n",
       "    </tr>\n",
       "    <tr>\n",
       "      <th>6</th>\n",
       "      <td>0.011400</td>\n",
       "      <td>0.000490</td>\n",
       "      <td>0.002201</td>\n",
       "      <td>0.000400</td>\n",
       "      <td>100</td>\n",
       "      <td>0.01</td>\n",
       "      <td>{'C': 100, 'gamma': 0.01}</td>\n",
       "      <td>0.776978</td>\n",
       "      <td>0.724638</td>\n",
       "      <td>0.768116</td>\n",
       "      <td>...</td>\n",
       "      <td>0.769888</td>\n",
       "      <td>0.025762</td>\n",
       "      <td>1</td>\n",
       "      <td>0.826087</td>\n",
       "      <td>0.831826</td>\n",
       "      <td>0.820976</td>\n",
       "      <td>0.810127</td>\n",
       "      <td>0.802893</td>\n",
       "      <td>0.818382</td>\n",
       "      <td>0.010535</td>\n",
       "    </tr>\n",
       "    <tr>\n",
       "      <th>7</th>\n",
       "      <td>0.007600</td>\n",
       "      <td>0.000490</td>\n",
       "      <td>0.002601</td>\n",
       "      <td>0.000490</td>\n",
       "      <td>100</td>\n",
       "      <td>0.001</td>\n",
       "      <td>{'C': 100, 'gamma': 0.001}</td>\n",
       "      <td>0.791367</td>\n",
       "      <td>0.739130</td>\n",
       "      <td>0.789855</td>\n",
       "      <td>...</td>\n",
       "      <td>0.766969</td>\n",
       "      <td>0.023407</td>\n",
       "      <td>2</td>\n",
       "      <td>0.782609</td>\n",
       "      <td>0.781193</td>\n",
       "      <td>0.770344</td>\n",
       "      <td>0.777577</td>\n",
       "      <td>0.799277</td>\n",
       "      <td>0.782200</td>\n",
       "      <td>0.009537</td>\n",
       "    </tr>\n",
       "    <tr>\n",
       "      <th>8</th>\n",
       "      <td>0.006800</td>\n",
       "      <td>0.000400</td>\n",
       "      <td>0.002601</td>\n",
       "      <td>0.000490</td>\n",
       "      <td>100</td>\n",
       "      <td>0.0001</td>\n",
       "      <td>{'C': 100, 'gamma': 0.0001}</td>\n",
       "      <td>0.805755</td>\n",
       "      <td>0.724638</td>\n",
       "      <td>0.782609</td>\n",
       "      <td>...</td>\n",
       "      <td>0.766948</td>\n",
       "      <td>0.032544</td>\n",
       "      <td>3</td>\n",
       "      <td>0.764493</td>\n",
       "      <td>0.784810</td>\n",
       "      <td>0.775769</td>\n",
       "      <td>0.772152</td>\n",
       "      <td>0.783002</td>\n",
       "      <td>0.776045</td>\n",
       "      <td>0.007402</td>\n",
       "    </tr>\n",
       "    <tr>\n",
       "      <th>9</th>\n",
       "      <td>0.041743</td>\n",
       "      <td>0.002712</td>\n",
       "      <td>0.002801</td>\n",
       "      <td>0.000400</td>\n",
       "      <td>1000</td>\n",
       "      <td>0.01</td>\n",
       "      <td>{'C': 1000, 'gamma': 0.01}</td>\n",
       "      <td>0.769784</td>\n",
       "      <td>0.717391</td>\n",
       "      <td>0.760870</td>\n",
       "      <td>...</td>\n",
       "      <td>0.758305</td>\n",
       "      <td>0.026305</td>\n",
       "      <td>9</td>\n",
       "      <td>0.851449</td>\n",
       "      <td>0.842676</td>\n",
       "      <td>0.840868</td>\n",
       "      <td>0.853526</td>\n",
       "      <td>0.840868</td>\n",
       "      <td>0.845878</td>\n",
       "      <td>0.005477</td>\n",
       "    </tr>\n",
       "    <tr>\n",
       "      <th>10</th>\n",
       "      <td>0.012201</td>\n",
       "      <td>0.000749</td>\n",
       "      <td>0.002401</td>\n",
       "      <td>0.000490</td>\n",
       "      <td>1000</td>\n",
       "      <td>0.001</td>\n",
       "      <td>{'C': 1000, 'gamma': 0.001}</td>\n",
       "      <td>0.776978</td>\n",
       "      <td>0.731884</td>\n",
       "      <td>0.782609</td>\n",
       "      <td>...</td>\n",
       "      <td>0.765541</td>\n",
       "      <td>0.019941</td>\n",
       "      <td>6</td>\n",
       "      <td>0.793478</td>\n",
       "      <td>0.795660</td>\n",
       "      <td>0.783002</td>\n",
       "      <td>0.797468</td>\n",
       "      <td>0.799277</td>\n",
       "      <td>0.793777</td>\n",
       "      <td>0.005720</td>\n",
       "    </tr>\n",
       "    <tr>\n",
       "      <th>11</th>\n",
       "      <td>0.008200</td>\n",
       "      <td>0.000401</td>\n",
       "      <td>0.002601</td>\n",
       "      <td>0.000490</td>\n",
       "      <td>1000</td>\n",
       "      <td>0.0001</td>\n",
       "      <td>{'C': 1000, 'gamma': 0.0001}</td>\n",
       "      <td>0.805755</td>\n",
       "      <td>0.731884</td>\n",
       "      <td>0.789855</td>\n",
       "      <td>...</td>\n",
       "      <td>0.766948</td>\n",
       "      <td>0.032544</td>\n",
       "      <td>3</td>\n",
       "      <td>0.771739</td>\n",
       "      <td>0.784810</td>\n",
       "      <td>0.772152</td>\n",
       "      <td>0.772152</td>\n",
       "      <td>0.797468</td>\n",
       "      <td>0.779664</td>\n",
       "      <td>0.010190</td>\n",
       "    </tr>\n",
       "  </tbody>\n",
       "</table>\n",
       "<p>12 rows × 22 columns</p>\n",
       "</div>"
      ],
      "text/plain": [
       "    mean_fit_time  std_fit_time  mean_score_time  std_score_time param_C  \\\n",
       "0        0.008398      0.002328         0.002600        0.000800       1   \n",
       "1        0.007604      0.000493         0.002400        0.000490       1   \n",
       "2        0.008553      0.001771         0.003000        0.000633       1   \n",
       "3        0.008200      0.000399         0.002401        0.000489      10   \n",
       "4        0.007600      0.000800         0.002601        0.000490      10   \n",
       "5        0.007600      0.000490         0.002801        0.000400      10   \n",
       "6        0.011400      0.000490         0.002201        0.000400     100   \n",
       "7        0.007600      0.000490         0.002601        0.000490     100   \n",
       "8        0.006800      0.000400         0.002601        0.000490     100   \n",
       "9        0.041743      0.002712         0.002801        0.000400    1000   \n",
       "10       0.012201      0.000749         0.002401        0.000490    1000   \n",
       "11       0.008200      0.000401         0.002601        0.000490    1000   \n",
       "\n",
       "   param_gamma                        params  split0_test_score  \\\n",
       "0         0.01       {'C': 1, 'gamma': 0.01}           0.776978   \n",
       "1        0.001      {'C': 1, 'gamma': 0.001}           0.697842   \n",
       "2       0.0001     {'C': 1, 'gamma': 0.0001}           0.683453   \n",
       "3         0.01      {'C': 10, 'gamma': 0.01}           0.769784   \n",
       "4        0.001     {'C': 10, 'gamma': 0.001}           0.805755   \n",
       "5       0.0001    {'C': 10, 'gamma': 0.0001}           0.697842   \n",
       "6         0.01     {'C': 100, 'gamma': 0.01}           0.776978   \n",
       "7        0.001    {'C': 100, 'gamma': 0.001}           0.791367   \n",
       "8       0.0001   {'C': 100, 'gamma': 0.0001}           0.805755   \n",
       "9         0.01    {'C': 1000, 'gamma': 0.01}           0.769784   \n",
       "10       0.001   {'C': 1000, 'gamma': 0.001}           0.776978   \n",
       "11      0.0001  {'C': 1000, 'gamma': 0.0001}           0.805755   \n",
       "\n",
       "    split1_test_score  split2_test_score  ...  mean_test_score  \\\n",
       "0            0.731884           0.789855  ...         0.762642   \n",
       "1            0.557971           0.688406  ...         0.671452   \n",
       "2            0.557971           0.659420  ...         0.651183   \n",
       "3            0.731884           0.782609  ...         0.761203   \n",
       "4            0.724638           0.782609  ...         0.766948   \n",
       "5            0.557971           0.688406  ...         0.672902   \n",
       "6            0.724638           0.768116  ...         0.769888   \n",
       "7            0.739130           0.789855  ...         0.766969   \n",
       "8            0.724638           0.782609  ...         0.766948   \n",
       "9            0.717391           0.760870  ...         0.758305   \n",
       "10           0.731884           0.782609  ...         0.765541   \n",
       "11           0.731884           0.789855  ...         0.766948   \n",
       "\n",
       "    std_test_score  rank_test_score  split0_train_score  split1_train_score  \\\n",
       "0         0.028555                7            0.775362            0.786618   \n",
       "1         0.064434               11            0.682971            0.674503   \n",
       "2         0.051601               12            0.643116            0.674503   \n",
       "3         0.017301                8            0.795290            0.790235   \n",
       "4         0.032544                3            0.768116            0.783002   \n",
       "5         0.064228               10            0.688406            0.676311   \n",
       "6         0.025762                1            0.826087            0.831826   \n",
       "7         0.023407                2            0.782609            0.781193   \n",
       "8         0.032544                3            0.764493            0.784810   \n",
       "9         0.026305                9            0.851449            0.842676   \n",
       "10        0.019941                6            0.793478            0.795660   \n",
       "11        0.032544                3            0.771739            0.784810   \n",
       "\n",
       "    split2_train_score  split3_train_score  split4_train_score  \\\n",
       "0             0.775769            0.773960            0.788427   \n",
       "1             0.688969            0.678119            0.690778   \n",
       "2             0.649186            0.652803            0.636528   \n",
       "3             0.788427            0.795660            0.797468   \n",
       "4             0.777577            0.772152            0.781193   \n",
       "5             0.692586            0.679928            0.694394   \n",
       "6             0.820976            0.810127            0.802893   \n",
       "7             0.770344            0.777577            0.799277   \n",
       "8             0.775769            0.772152            0.783002   \n",
       "9             0.840868            0.853526            0.840868   \n",
       "10            0.783002            0.797468            0.799277   \n",
       "11            0.772152            0.772152            0.797468   \n",
       "\n",
       "    mean_train_score  std_train_score  \n",
       "0           0.780027         0.006176  \n",
       "1           0.683068         0.006199  \n",
       "2           0.651227         0.012886  \n",
       "3           0.793416         0.003464  \n",
       "4           0.776408         0.005561  \n",
       "5           0.686325         0.007069  \n",
       "6           0.818382         0.010535  \n",
       "7           0.782200         0.009537  \n",
       "8           0.776045         0.007402  \n",
       "9           0.845878         0.005477  \n",
       "10          0.793777         0.005720  \n",
       "11          0.779664         0.010190  \n",
       "\n",
       "[12 rows x 22 columns]"
      ]
     },
     "execution_count": 127,
     "metadata": {},
     "output_type": "execute_result"
    }
   ],
   "source": [
    "cv_results_new = pd.DataFrame(model_cv_new.cv_results_)\n",
    "cv_results_new"
   ]
  },
  {
   "cell_type": "code",
   "execution_count": 128,
   "metadata": {},
   "outputs": [
    {
     "data": {
      "image/png": "[encoded data removed]",
      "text/plain": [
       "<Figure size 1152x432 with 3 Axes>"
      ]
     },
     "metadata": {
      "needs_background": "light"
     },
     "output_type": "display_data"
    }
   ],
   "source": [
    "# converting C to numeric type for plotting on x-axis\n",
    "cv_results['param_C'] = cv_results['param_C'].astype('int')\n",
    "\n",
    "# # plotting\n",
    "plt.figure(figsize=(16,6))\n",
    "\n",
    "# subplot 1/3\n",
    "plt.subplot(131)\n",
    "gamma_01 = cv_results_new[cv_results_new['param_gamma']==0.01]\n",
    "\n",
    "plt.plot(gamma_01[\"param_C\"], gamma_01[\"mean_test_score\"])\n",
    "plt.plot(gamma_01[\"param_C\"], gamma_01[\"mean_train_score\"])\n",
    "plt.xlabel('C')\n",
    "plt.ylabel('Accuracy')\n",
    "plt.title(\"Gamma=0.01\")\n",
    "plt.ylim([0.60, 1])\n",
    "plt.legend(['test accuracy', 'train accuracy'], loc='upper left')\n",
    "plt.xscale('log')\n",
    "\n",
    "\n",
    "# subplot 2/3\n",
    "plt.subplot(132)\n",
    "gamma_01 = cv_results_new[cv_results_new['param_gamma']==0.001]\n",
    "\n",
    "plt.plot(gamma_01[\"param_C\"], gamma_01[\"mean_test_score\"])\n",
    "plt.plot(gamma_01[\"param_C\"], gamma_01[\"mean_train_score\"])\n",
    "plt.xlabel('C')\n",
    "plt.ylabel('Accuracy')\n",
    "plt.title(\"Gamma=0.001\")\n",
    "plt.ylim([0.60, 1])\n",
    "plt.legend(['test accuracy', 'train accuracy'], loc='upper left')\n",
    "plt.xscale('log')\n",
    "\n",
    "\n",
    "# subplot 3/3\n",
    "plt.subplot(133)\n",
    "gamma_01 = cv_results_new[cv_results_new['param_gamma']==0.0001]\n",
    "\n",
    "plt.plot(gamma_01[\"param_C\"], gamma_01[\"mean_test_score\"])\n",
    "plt.plot(gamma_01[\"param_C\"], gamma_01[\"mean_train_score\"])\n",
    "plt.xlabel('C')\n",
    "plt.ylabel('Accuracy')\n",
    "plt.title(\"Gamma=0.0001\")\n",
    "plt.ylim([0.60, 1])\n",
    "plt.legend(['test accuracy', 'train accuracy'], loc='upper left')\n",
    "plt.xscale('log')\n"
   ]
  },
  {
   "cell_type": "code",
   "execution_count": 129,
   "metadata": {},
   "outputs": [
    {
     "name": "stdout",
     "output_type": "stream",
     "text": [
      "The best test score is 0.7698884370764258 corresponding to hyperparameters {'C': 100, 'gamma': 0.01}\n"
     ]
    }
   ],
   "source": [
    "# printing the optimal accuracy score and hyperparameters\n",
    "best_score = model_cv_new.best_score_\n",
    "best_hyperparams = model_cv_new.best_params_\n",
    "\n",
    "print(\"The best test score is {0} corresponding to hyperparameters {1}\".format(best_score, best_hyperparams))"
   ]
  },
  {
   "cell_type": "code",
   "execution_count": 132,
   "metadata": {},
   "outputs": [
    {
     "name": "stdout",
     "output_type": "stream",
     "text": [
      "accuracy 0.7272727272727273 \n",
      "\n",
      "[[43  7]\n",
      " [14 13]] \n",
      "\n"
     ]
    }
   ],
   "source": [
    "# model with optimal hyperparameters\n",
    "\n",
    "# model\n",
    "model_temp = SVC(C=100, gamma=0.01, kernel=\"rbf\")\n",
    "\n",
    "model_temp.fit(tr_X, tr_Y)\n",
    "y_p = model_temp.predict(te_X)\n",
    "\n",
    "# metrics\n",
    "print(\"accuracy\", metrics.accuracy_score(te_Y, y_p), \"\\n\")\n",
    "print(metrics.confusion_matrix(te_Y, y_p), \"\\n\")\n"
   ]
  },
  {
   "cell_type": "code",
   "execution_count": null,
   "metadata": {},
   "outputs": [],
   "source": []
  }
 ],
 "metadata": {
  "kernelspec": {
   "display_name": "Python 3",
   "language": "python",
   "name": "python3"
  },
  "language_info": {
   "codemirror_mode": {
    "name": "ipython",
    "version": 3
   },
   "file_extension": ".py",
   "mimetype": "text/x-python",
   "name": "python",
   "nbconvert_exporter": "python",
   "pygments_lexer": "ipython3",
   "version": "3.8.3"
  }
 },
 "nbformat": 4,
 "nbformat_minor": 4
}
