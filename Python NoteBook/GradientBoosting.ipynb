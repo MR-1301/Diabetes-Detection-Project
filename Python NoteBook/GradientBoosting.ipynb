{
  "cells": [
    {
      "cell_type": "markdown",
      "metadata": {
        "id": "KPrtQsrjDx47"
      },
      "source": [
        "If You are using Google Collab Uncomment the following to install required Python packages. "
      ]
    },
    {
      "cell_type": "code",
      "execution_count": 1,
      "metadata": {
        "id": "oYIwGAx35LsU"
      },
      "outputs": [],
      "source": [
        "# !pip install pandas\n",
        "# !pip install numpy\n",
        "# !pip install sklearn\n",
        "# !pip install matplotlib\n",
        "# !pip install seaborn"
      ]
    },
    {
      "cell_type": "markdown",
      "metadata": {
        "id": "KvJTVtH6ECi_"
      },
      "source": [
        "###Importing Necessary Libraries"
      ]
    },
    {
      "cell_type": "code",
      "execution_count": 2,
      "metadata": {
        "id": "j-m_IjEd8fOH"
      },
      "outputs": [],
      "source": [
        "import pandas as pd\n",
        "import numpy as np\n",
        "from sklearn.ensemble import GradientBoostingClassifier\n",
        "from sklearn.preprocessing import StandardScaler\n",
        "from sklearn.metrics import mean_squared_error, mean_absolute_error, precision_score, recall_score, roc_auc_score\n",
        "from sklearn.model_selection import train_test_split as tts"
      ]
    },
    {
      "cell_type": "markdown",
      "metadata": {
        "id": "tmAGxvw1EKD6"
      },
      "source": [
        "### Importing Dataset"
      ]
    },
    {
      "cell_type": "code",
      "execution_count": 3,
      "metadata": {
        "id": "o47wKXGj-DE6"
      },
      "outputs": [
        {
          "data": {
            "text/html": [
              "<div>\n",
              "<style scoped>\n",
              "    .dataframe tbody tr th:only-of-type {\n",
              "        vertical-align: middle;\n",
              "    }\n",
              "\n",
              "    .dataframe tbody tr th {\n",
              "        vertical-align: top;\n",
              "    }\n",
              "\n",
              "    .dataframe thead th {\n",
              "        text-align: right;\n",
              "    }\n",
              "</style>\n",
              "<table border=\"1\" class=\"dataframe\">\n",
              "  <thead>\n",
              "    <tr style=\"text-align: right;\">\n",
              "      <th></th>\n",
              "      <th>Pregnancies</th>\n",
              "      <th>Glucose</th>\n",
              "      <th>BloodPressure</th>\n",
              "      <th>SkinThickness</th>\n",
              "      <th>Insulin</th>\n",
              "      <th>BMI</th>\n",
              "      <th>DiabetesPedigreeFunction</th>\n",
              "      <th>Age</th>\n",
              "      <th>Outcome</th>\n",
              "    </tr>\n",
              "  </thead>\n",
              "  <tbody>\n",
              "    <tr>\n",
              "      <th>0</th>\n",
              "      <td>6</td>\n",
              "      <td>148</td>\n",
              "      <td>72</td>\n",
              "      <td>35</td>\n",
              "      <td>0</td>\n",
              "      <td>33.6</td>\n",
              "      <td>0.627</td>\n",
              "      <td>50</td>\n",
              "      <td>1</td>\n",
              "    </tr>\n",
              "    <tr>\n",
              "      <th>1</th>\n",
              "      <td>1</td>\n",
              "      <td>85</td>\n",
              "      <td>66</td>\n",
              "      <td>29</td>\n",
              "      <td>0</td>\n",
              "      <td>26.6</td>\n",
              "      <td>0.351</td>\n",
              "      <td>31</td>\n",
              "      <td>0</td>\n",
              "    </tr>\n",
              "    <tr>\n",
              "      <th>2</th>\n",
              "      <td>8</td>\n",
              "      <td>183</td>\n",
              "      <td>64</td>\n",
              "      <td>0</td>\n",
              "      <td>0</td>\n",
              "      <td>23.3</td>\n",
              "      <td>0.672</td>\n",
              "      <td>32</td>\n",
              "      <td>1</td>\n",
              "    </tr>\n",
              "    <tr>\n",
              "      <th>3</th>\n",
              "      <td>1</td>\n",
              "      <td>89</td>\n",
              "      <td>66</td>\n",
              "      <td>23</td>\n",
              "      <td>94</td>\n",
              "      <td>28.1</td>\n",
              "      <td>0.167</td>\n",
              "      <td>21</td>\n",
              "      <td>0</td>\n",
              "    </tr>\n",
              "    <tr>\n",
              "      <th>4</th>\n",
              "      <td>0</td>\n",
              "      <td>137</td>\n",
              "      <td>40</td>\n",
              "      <td>35</td>\n",
              "      <td>168</td>\n",
              "      <td>43.1</td>\n",
              "      <td>2.288</td>\n",
              "      <td>33</td>\n",
              "      <td>1</td>\n",
              "    </tr>\n",
              "  </tbody>\n",
              "</table>\n",
              "</div>"
            ],
            "text/plain": [
              "   Pregnancies  Glucose  BloodPressure  SkinThickness  Insulin   BMI  \\\n",
              "0            6      148             72             35        0  33.6   \n",
              "1            1       85             66             29        0  26.6   \n",
              "2            8      183             64              0        0  23.3   \n",
              "3            1       89             66             23       94  28.1   \n",
              "4            0      137             40             35      168  43.1   \n",
              "\n",
              "   DiabetesPedigreeFunction  Age  Outcome  \n",
              "0                     0.627   50        1  \n",
              "1                     0.351   31        0  \n",
              "2                     0.672   32        1  \n",
              "3                     0.167   21        0  \n",
              "4                     2.288   33        1  "
            ]
          },
          "execution_count": 3,
          "metadata": {},
          "output_type": "execute_result"
        }
      ],
      "source": [
        "pima_df=pd.read_csv(\"./content/sample_data/Pima Indians Diabetes Dataset - diabetes.csv\")\n",
        "pima_df.head()"
      ]
    },
    {
      "cell_type": "markdown",
      "metadata": {
        "id": "esXcG9XS_jHm"
      },
      "source": [
        "### **Data Cleaning**\n",
        "\n",
        "1.   Replacing all the 0 with null value.\n",
        "2.   Fill all the null values with the mean value of that column.\n",
        "\n",
        "This is done beacuse no a number row will not be counted in mean.\n",
        "\n"
      ]
    },
    {
      "cell_type": "code",
      "execution_count": 4,
      "metadata": {
        "id": "ISM5amWPBLw6"
      },
      "outputs": [],
      "source": [
        "# Glucose\n",
        "pima_df['Glucose'].replace(0,np.NaN,inplace=True)\n",
        "mean_Glucose=pima_df['Glucose'].mean()\n",
        "pima_df['Glucose'].fillna(mean_Glucose, inplace = True)"
      ]
    },
    {
      "cell_type": "code",
      "execution_count": 5,
      "metadata": {
        "id": "ItYedrHUDfVZ"
      },
      "outputs": [],
      "source": [
        "# BloodPressure\n",
        "pima_df['BloodPressure'].replace(0,np.NaN,inplace=True)\n",
        "mean_BloodPressure=pima_df['BloodPressure'].mean()\n",
        "pima_df['BloodPressure'].fillna(mean_BloodPressure, inplace = True)"
      ]
    },
    {
      "cell_type": "code",
      "execution_count": 6,
      "metadata": {
        "id": "M1jU7WAsDfP5"
      },
      "outputs": [],
      "source": [
        "# SkinThickness\n",
        "pima_df['SkinThickness'].replace(0,np.NaN,inplace=True)\n",
        "mean_SkinThickness=pima_df['SkinThickness'].mean()\n",
        "pima_df['SkinThickness'].fillna(mean_SkinThickness, inplace = True)"
      ]
    },
    {
      "cell_type": "code",
      "execution_count": 7,
      "metadata": {
        "id": "oLD8QH2YDfHQ"
      },
      "outputs": [],
      "source": [
        "# Insulin\n",
        "pima_df['Insulin'].replace(0,np.NaN,inplace=True)\n",
        "mean_Insulin=pima_df['Insulin'].mean()\n",
        "pima_df['Insulin'].fillna(mean_Insulin, inplace = True)"
      ]
    },
    {
      "cell_type": "code",
      "execution_count": 8,
      "metadata": {
        "id": "nuuhnBFlDRlf"
      },
      "outputs": [],
      "source": [
        "# BMI\n",
        "pima_df['BMI'].replace(0,np.NaN,inplace=True)\n",
        "mean_BMI=pima_df['BMI'].mean()\n",
        "pima_df['BMI'].fillna(mean_BMI, inplace = True)"
      ]
    },
    {
      "cell_type": "markdown",
      "metadata": {
        "id": "uzb7ujbSEV1H"
      },
      "source": [
        "###Feature Scaling\n",
        "\n",
        "\n",
        "1.   Preparing Feature Vector and Obesrvation Vector. \n",
        "2.   Normalizing them.\n",
        "\n"
      ]
    },
    {
      "cell_type": "code",
      "execution_count": 9,
      "metadata": {
        "id": "spjiKdfJFY0W"
      },
      "outputs": [],
      "source": [
        "StSc=StandardScaler()"
      ]
    },
    {
      "cell_type": "code",
      "execution_count": 10,
      "metadata": {
        "id": "Ls0GUc4SE1O7"
      },
      "outputs": [
        {
          "name": "stdout",
          "output_type": "stream",
          "text": [
            "   Pregnancies  Glucose  BloodPressure  SkinThickness     Insulin   BMI  \\\n",
            "0            6    148.0           72.0       35.00000  155.548223  33.6   \n",
            "1            1     85.0           66.0       29.00000  155.548223  26.6   \n",
            "2            8    183.0           64.0       29.15342  155.548223  23.3   \n",
            "3            1     89.0           66.0       23.00000   94.000000  28.1   \n",
            "4            0    137.0           40.0       35.00000  168.000000  43.1   \n",
            "\n",
            "   DiabetesPedigreeFunction  Age  \n",
            "0                     0.627   50  \n",
            "1                     0.351   31  \n",
            "2                     0.672   32  \n",
            "3                     0.167   21  \n",
            "4                     2.288   33  \n",
            "   Pregnancies   Glucose  BloodPressure  SkinThickness       Insulin  \\\n",
            "0     0.639947  0.865108      -0.033518   6.655021e-01 -3.345079e-16   \n",
            "1    -0.844885 -1.206162      -0.529859  -1.746338e-02 -3.345079e-16   \n",
            "2     1.233880  2.015813      -0.695306   8.087936e-16 -3.345079e-16   \n",
            "3    -0.844885 -1.074652      -0.529859  -7.004289e-01 -7.243887e-01   \n",
            "4    -1.141852  0.503458      -2.680669   6.655021e-01  1.465506e-01   \n",
            "\n",
            "        BMI  DiabetesPedigreeFunction       Age  \n",
            "0  0.166292                  0.468492  1.425995  \n",
            "1 -0.852531                 -0.365061 -0.190672  \n",
            "2 -1.332833                  0.604397 -0.105584  \n",
            "3 -0.634212                 -0.920763 -1.041549  \n",
            "4  1.548980                  5.484909 -0.020496  \n"
          ]
        }
      ],
      "source": [
        "features_X=pima_df.drop([\"Outcome\"],axis = 1)\n",
        "print(features_X.head())\n",
        "features_X=  pd.DataFrame(StSc.fit_transform(features_X),columns=['Pregnancies', 'Glucose', 'BloodPressure', 'SkinThickness', 'Insulin','BMI', 'DiabetesPedigreeFunction', 'Age'])\n",
        "print(features_X.head())"
      ]
    },
    {
      "cell_type": "code",
      "execution_count": 11,
      "metadata": {
        "id": "JHanZuDMGcz0"
      },
      "outputs": [
        {
          "name": "stdout",
          "output_type": "stream",
          "text": [
            "0      1\n",
            "1      0\n",
            "2      1\n",
            "3      0\n",
            "4      1\n",
            "      ..\n",
            "763    0\n",
            "764    0\n",
            "765    0\n",
            "766    1\n",
            "767    0\n",
            "Name: Outcome, Length: 768, dtype: int64\n"
          ]
        }
      ],
      "source": [
        "observation_Y=pima_df['Outcome']\n",
        "print(observation_Y)"
      ]
    },
    {
      "cell_type": "markdown",
      "metadata": {
        "id": "7Gtnt9viGMHu"
      },
      "source": [
        "### Train Test Split"
      ]
    },
    {
      "cell_type": "code",
      "execution_count": 12,
      "metadata": {
        "id": "8zzk9-bVGKkc"
      },
      "outputs": [],
      "source": [
        "tr_X, te_X, tr_Y,te_Y=tts(features_X,observation_Y, test_size=0.1, random_state=42,stratify=observation_Y)"
      ]
    },
    {
      "cell_type": "code",
      "execution_count": 13,
      "metadata": {
        "id": "7pWIjW0OGEnQ"
      },
      "outputs": [
        {
          "name": "stdout",
          "output_type": "stream",
          "text": [
            "Train X Size: (691, 8)\n",
            "Test X Size: (77, 8)\n",
            "Train Y Size: (691,)\n",
            "Test Y Size: (77,)\n"
          ]
        }
      ],
      "source": [
        "print(\"Train X Size:\",tr_X.shape)\n",
        "print(\"Test X Size:\",te_X.shape)\n",
        "print(\"Train Y Size:\",tr_Y.shape)\n",
        "print(\"Test Y Size:\",te_Y.shape)"
      ]
    },
    {
      "cell_type": "markdown",
      "metadata": {
        "id": "kBvibOqvKBMd"
      },
      "source": [
        "### Gradient Boosting Algorightm"
      ]
    },
    {
      "cell_type": "code",
      "execution_count": 14,
      "metadata": {
        "id": "JyhB11qcHZdd"
      },
      "outputs": [],
      "source": [
        "my_grdBst=GradientBoostingClassifier(random_state=42)"
      ]
    },
    {
      "cell_type": "code",
      "execution_count": 15,
      "metadata": {
        "id": "tzuOGHEsH25n"
      },
      "outputs": [
        {
          "data": {
            "text/plain": [
              "GradientBoostingClassifier(random_state=42)"
            ]
          },
          "execution_count": 15,
          "metadata": {},
          "output_type": "execute_result"
        }
      ],
      "source": [
        "my_grdBst.fit(tr_X,tr_Y)"
      ]
    },
    {
      "cell_type": "code",
      "execution_count": 16,
      "metadata": {
        "id": "Obj4d-5VH9Hf"
      },
      "outputs": [],
      "source": [
        "pred_Y=my_grdBst.predict(te_X)"
      ]
    },
    {
      "cell_type": "code",
      "execution_count": 17,
      "metadata": {
        "id": "Zd5Vz9JsIR0i"
      },
      "outputs": [
        {
          "name": "stdout",
          "output_type": "stream",
          "text": [
            "Mean Square Error: 0.23376623376623376\n",
            "Mean Absolute Error: 0.23376623376623376\n",
            "Precision: 0.6956521739130435\n",
            "recall_score: 0.5925925925925926\n",
            "roc_auc_score: 0.7262962962962962\n"
          ]
        }
      ],
      "source": [
        "print(\"Mean Square Error:\",mean_squared_error(te_Y,pred_Y))\n",
        "print(\"Mean Absolute Error:\",mean_absolute_error(te_Y,pred_Y))\n",
        "print(\"Precision:\", precision_score(te_Y,pred_Y))\n",
        "print(\"recall_score:\",recall_score(te_Y,pred_Y))\n",
        "print(\"roc_auc_score:\",roc_auc_score(te_Y,pred_Y))"
      ]
    }
  ],
  "metadata": {
    "colab": {
      "collapsed_sections": [],
      "name": "Project_GradientBoosting.ipynb",
      "private_outputs": true,
      "provenance": []
    },
    "kernelspec": {
      "display_name": "Python 3",
      "name": "python3"
    },
    "language_info": {
      "codemirror_mode": {
        "name": "ipython",
        "version": 3
      },
      "file_extension": ".py",
      "mimetype": "text/x-python",
      "name": "python",
      "nbconvert_exporter": "python",
      "pygments_lexer": "ipython3",
      "version": "3.8.8"
    }
  },
  "nbformat": 4,
  "nbformat_minor": 0
}
