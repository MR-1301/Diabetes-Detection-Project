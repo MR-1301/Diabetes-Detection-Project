{
 "cells": [
  {
   "cell_type": "markdown",
   "metadata": {
    "id": "KPrtQsrjDx47"
   },
   "source": [
    "If You are using Google Collab Uncomment the following to install required Python packages. "
   ]
  },
  {
   "cell_type": "code",
   "execution_count": 149,
   "metadata": {
    "id": "oYIwGAx35LsU"
   },
   "outputs": [],
   "source": [
    "# !pip install pandas\n",
    "# !pip install numpy\n",
    "# !pip install sklearn\n",
    "# !pip install matplotlib\n",
    "# !pip install seaborn"
   ]
  },
  {
   "cell_type": "markdown",
   "metadata": {
    "id": "KvJTVtH6ECi_"
   },
   "source": [
    "###Importing Necessary Libraries"
   ]
  },
  {
   "cell_type": "code",
   "execution_count": 150,
   "metadata": {
    "id": "j-m_IjEd8fOH"
   },
   "outputs": [],
   "source": [
    "import matplotlib.pyplot as plt\n",
    "import pandas as pd\n",
    "import numpy as np\n",
    "import seaborn as sns\n",
    "import matplotlib.pyplot as plt\n",
    "from sklearn.ensemble import GradientBoostingClassifier\n",
    "from sklearn.preprocessing import StandardScaler\n",
    "from sklearn.metrics import precision_score, recall_score, roc_auc_score, confusion_matrix\n",
    "from sklearn.model_selection import train_test_split as tts\n",
    "import pickle"
   ]
  },
  {
   "cell_type": "markdown",
   "metadata": {
    "id": "tmAGxvw1EKD6"
   },
   "source": [
    "### Importing Dataset"
   ]
  },
  {
   "cell_type": "code",
   "execution_count": 151,
   "metadata": {
    "id": "o47wKXGj-DE6"
   },
   "outputs": [
    {
     "data": {
      "text/plain": "   Pregnancies  Glucose  BloodPressure  SkinThickness  Insulin   BMI  \\\n0            6      148             72             35        0  33.6   \n1            1       85             66             29        0  26.6   \n2            8      183             64              0        0  23.3   \n3            1       89             66             23       94  28.1   \n4            0      137             40             35      168  43.1   \n\n   DiabetesPedigreeFunction  Age  Outcome  \n0                     0.627   50        1  \n1                     0.351   31        0  \n2                     0.672   32        1  \n3                     0.167   21        0  \n4                     2.288   33        1  ",
      "text/html": "<div>\n<style scoped>\n    .dataframe tbody tr th:only-of-type {\n        vertical-align: middle;\n    }\n\n    .dataframe tbody tr th {\n        vertical-align: top;\n    }\n\n    .dataframe thead th {\n        text-align: right;\n    }\n</style>\n<table border=\"1\" class=\"dataframe\">\n  <thead>\n    <tr style=\"text-align: right;\">\n      <th></th>\n      <th>Pregnancies</th>\n      <th>Glucose</th>\n      <th>BloodPressure</th>\n      <th>SkinThickness</th>\n      <th>Insulin</th>\n      <th>BMI</th>\n      <th>DiabetesPedigreeFunction</th>\n      <th>Age</th>\n      <th>Outcome</th>\n    </tr>\n  </thead>\n  <tbody>\n    <tr>\n      <th>0</th>\n      <td>6</td>\n      <td>148</td>\n      <td>72</td>\n      <td>35</td>\n      <td>0</td>\n      <td>33.6</td>\n      <td>0.627</td>\n      <td>50</td>\n      <td>1</td>\n    </tr>\n    <tr>\n      <th>1</th>\n      <td>1</td>\n      <td>85</td>\n      <td>66</td>\n      <td>29</td>\n      <td>0</td>\n      <td>26.6</td>\n      <td>0.351</td>\n      <td>31</td>\n      <td>0</td>\n    </tr>\n    <tr>\n      <th>2</th>\n      <td>8</td>\n      <td>183</td>\n      <td>64</td>\n      <td>0</td>\n      <td>0</td>\n      <td>23.3</td>\n      <td>0.672</td>\n      <td>32</td>\n      <td>1</td>\n    </tr>\n    <tr>\n      <th>3</th>\n      <td>1</td>\n      <td>89</td>\n      <td>66</td>\n      <td>23</td>\n      <td>94</td>\n      <td>28.1</td>\n      <td>0.167</td>\n      <td>21</td>\n      <td>0</td>\n    </tr>\n    <tr>\n      <th>4</th>\n      <td>0</td>\n      <td>137</td>\n      <td>40</td>\n      <td>35</td>\n      <td>168</td>\n      <td>43.1</td>\n      <td>2.288</td>\n      <td>33</td>\n      <td>1</td>\n    </tr>\n  </tbody>\n</table>\n</div>"
     },
     "execution_count": 151,
     "metadata": {},
     "output_type": "execute_result"
    }
   ],
   "source": [
    "pima_df = pd.read_csv(\"./content/sample_data/Pima Indians Diabetes Dataset - diabetes.csv\")\n",
    "pima_df.head()"
   ]
  },
  {
   "cell_type": "markdown",
   "metadata": {
    "id": "esXcG9XS_jHm"
   },
   "source": [
    "### **Data Cleaning**\n",
    "\n",
    "1.   Replacing all the 0 with null value.\n",
    "2.   Fill all the null values with the mean value of that column.\n",
    "\n",
    "This is done beacuse no a number row will not be counted in mean.\n",
    "\n"
   ]
  },
  {
   "cell_type": "code",
   "execution_count": 152,
   "metadata": {
    "id": "ISM5amWPBLw6"
   },
   "outputs": [],
   "source": [
    "# Glucose\n",
    "pima_df['Glucose'].replace(0, np.NaN, inplace=True)\n",
    "mean_Glucose = pima_df['Glucose'].mean()\n",
    "pima_df['Glucose'].fillna(mean_Glucose, inplace=True)"
   ]
  },
  {
   "cell_type": "code",
   "execution_count": 153,
   "metadata": {
    "id": "ItYedrHUDfVZ"
   },
   "outputs": [],
   "source": [
    "# BloodPressure\n",
    "pima_df['BloodPressure'].replace(0, np.NaN, inplace=True)\n",
    "mean_BloodPressure = pima_df['BloodPressure'].mean()\n",
    "pima_df['BloodPressure'].fillna(mean_BloodPressure, inplace=True)"
   ]
  },
  {
   "cell_type": "code",
   "execution_count": 154,
   "metadata": {
    "id": "M1jU7WAsDfP5"
   },
   "outputs": [],
   "source": [
    "# SkinThickness\n",
    "pima_df['SkinThickness'].replace(0, np.NaN, inplace=True)\n",
    "mean_SkinThickness = pima_df['SkinThickness'].mean()\n",
    "pima_df['SkinThickness'].fillna(mean_SkinThickness, inplace=True)"
   ]
  },
  {
   "cell_type": "code",
   "execution_count": 155,
   "metadata": {
    "id": "oLD8QH2YDfHQ"
   },
   "outputs": [],
   "source": [
    "# Insulin\n",
    "pima_df['Insulin'].replace(0, np.NaN, inplace=True)\n",
    "mean_Insulin = pima_df['Insulin'].mean()\n",
    "pima_df['Insulin'].fillna(mean_Insulin, inplace=True)"
   ]
  },
  {
   "cell_type": "code",
   "execution_count": 156,
   "metadata": {
    "id": "nuuhnBFlDRlf"
   },
   "outputs": [],
   "source": [
    "# BMI\n",
    "pima_df['BMI'].replace(0, np.NaN, inplace=True)\n",
    "mean_BMI = pima_df['BMI'].mean()\n",
    "pima_df['BMI'].fillna(mean_BMI, inplace=True)"
   ]
  },
  {
   "cell_type": "markdown",
   "metadata": {
    "id": "uzb7ujbSEV1H"
   },
   "source": [
    "###Feature Scaling\n",
    "\n",
    "\n",
    "1.   Preparing Feature Vector and Obesrvation Vector. \n",
    "2.   Normalizing them.\n",
    "\n"
   ]
  },
  {
   "cell_type": "code",
   "execution_count": 157,
   "metadata": {
    "id": "spjiKdfJFY0W"
   },
   "outputs": [],
   "source": [
    "StSc = StandardScaler()"
   ]
  },
  {
   "cell_type": "code",
   "execution_count": 158,
   "metadata": {
    "id": "Ls0GUc4SE1O7"
   },
   "outputs": [
    {
     "name": "stdout",
     "output_type": "stream",
     "text": [
      "   Pregnancies  Glucose  BloodPressure  SkinThickness     Insulin   BMI  \\\n",
      "0            6    148.0           72.0       35.00000  155.548223  33.6   \n",
      "1            1     85.0           66.0       29.00000  155.548223  26.6   \n",
      "2            8    183.0           64.0       29.15342  155.548223  23.3   \n",
      "3            1     89.0           66.0       23.00000   94.000000  28.1   \n",
      "4            0    137.0           40.0       35.00000  168.000000  43.1   \n",
      "\n",
      "   DiabetesPedigreeFunction  Age  \n",
      "0                     0.627   50  \n",
      "1                     0.351   31  \n",
      "2                     0.672   32  \n",
      "3                     0.167   21  \n",
      "4                     2.288   33  \n",
      "   Pregnancies   Glucose  BloodPressure  SkinThickness       Insulin  \\\n",
      "0     0.639947  0.865108      -0.033518   6.655021e-01 -3.345079e-16   \n",
      "1    -0.844885 -1.206162      -0.529859  -1.746338e-02 -3.345079e-16   \n",
      "2     1.233880  2.015813      -0.695306   8.087936e-16 -3.345079e-16   \n",
      "3    -0.844885 -1.074652      -0.529859  -7.004289e-01 -7.243887e-01   \n",
      "4    -1.141852  0.503458      -2.680669   6.655021e-01  1.465506e-01   \n",
      "\n",
      "        BMI  DiabetesPedigreeFunction       Age  \n",
      "0  0.166292                  0.468492  1.425995  \n",
      "1 -0.852531                 -0.365061 -0.190672  \n",
      "2 -1.332833                  0.604397 -0.105584  \n",
      "3 -0.634212                 -0.920763 -1.041549  \n",
      "4  1.548980                  5.484909 -0.020496  \n"
     ]
    }
   ],
   "source": [
    "features_X = pima_df.drop([\"Outcome\"], axis=1)\n",
    "print(features_X.head())\n",
    "features_X = pd.DataFrame(StSc.fit_transform(features_X),\n",
    "                          columns=['Pregnancies', 'Glucose', 'BloodPressure', 'SkinThickness', 'Insulin', 'BMI',\n",
    "                                   'DiabetesPedigreeFunction', 'Age'])\n",
    "print(features_X.head())"
   ]
  },
  {
   "cell_type": "code",
   "execution_count": 159,
   "metadata": {
    "id": "JHanZuDMGcz0"
   },
   "outputs": [
    {
     "name": "stdout",
     "output_type": "stream",
     "text": [
      "0      1\n",
      "1      0\n",
      "2      1\n",
      "3      0\n",
      "4      1\n",
      "      ..\n",
      "763    0\n",
      "764    0\n",
      "765    0\n",
      "766    1\n",
      "767    0\n",
      "Name: Outcome, Length: 768, dtype: int64\n"
     ]
    }
   ],
   "source": [
    "observation_Y = pima_df['Outcome']\n",
    "print(observation_Y)"
   ]
  },
  {
   "cell_type": "markdown",
   "metadata": {
    "id": "kBvibOqvKBMd"
   },
   "source": [
    "### Gradient Boosting Algorightm"
   ]
  },
  {
   "cell_type": "markdown",
   "source": [
    "### Train Test Split"
   ],
   "metadata": {
    "collapsed": false
   }
  },
  {
   "cell_type": "code",
   "execution_count": 160,
   "outputs": [],
   "source": [
    "tr_X, te_X, tr_Y, te_Y = tts(features_X, observation_Y, test_size=0.1, random_state=42, stratify=observation_Y)"
   ],
   "metadata": {
    "collapsed": false,
    "pycharm": {
     "name": "#%%\n"
    }
   }
  },
  {
   "cell_type": "code",
   "execution_count": 161,
   "outputs": [
    {
     "name": "stdout",
     "output_type": "stream",
     "text": [
      "Train X Size: (691, 8)\n",
      "Test X Size: (77, 8)\n",
      "Train Y Size: (691,)\n",
      "Test Y Size: (77,)\n"
     ]
    }
   ],
   "source": [
    "print(\"Train X Size:\", tr_X.shape)\n",
    "print(\"Test X Size:\", te_X.shape)\n",
    "print(\"Train Y Size:\", tr_Y.shape)\n",
    "print(\"Test Y Size:\", te_Y.shape)\n"
   ],
   "metadata": {
    "collapsed": false,
    "pycharm": {
     "name": "#%%\n"
    }
   }
  },
  {
   "cell_type": "code",
   "execution_count": 162,
   "metadata": {
    "id": "JyhB11qcHZdd"
   },
   "outputs": [],
   "source": [
    "recallScore = []\n",
    "\n",
    "# trying different learning rate\n",
    "learning_rate = np.linspace(0, 1, 101)\n",
    "learning_rate = np.append(learning_rate, 0.1)\n",
    "best_learning_rate = 0.1\n",
    "best_recall = 0\n",
    "\n",
    "for i in learning_rate:\n",
    "    if i == 0:\n",
    "        continue\n",
    "    my_grdBst = GradientBoostingClassifier(learning_rate=i)\n",
    "    my_grdBst.fit(tr_X, tr_Y)\n",
    "    pred_Y = my_grdBst.predict(te_X)\n",
    "    rs = recall_score(te_Y, pred_Y)\n",
    "    recallScore.append(rs)\n",
    "    if rs > best_recall:\n",
    "        best_recall = rs\n",
    "        best_learning_rate = i"
   ]
  },
  {
   "cell_type": "code",
   "execution_count": 163,
   "outputs": [
    {
     "data": {
      "text/plain": "[<matplotlib.lines.Line2D at 0x2693014bfd0>]"
     },
     "execution_count": 163,
     "metadata": {},
     "output_type": "execute_result"
    },
    {
     "data": {
      "text/plain": "<Figure size 432x288 with 1 Axes>",
      "image/png": "[encoded data removed]"
     },
     "metadata": {
      "needs_background": "light"
     },
     "output_type": "display_data"
    }
   ],
   "source": [
    "plt.plot(recallScore)"
   ],
   "metadata": {
    "collapsed": false,
    "pycharm": {
     "name": "#%%\n"
    }
   }
  },
  {
   "cell_type": "code",
   "execution_count": 164,
   "metadata": {
    "id": "Zd5Vz9JsIR0i"
   },
   "outputs": [
    {
     "name": "stdout",
     "output_type": "stream",
     "text": [
      "best learning rate found is:  0.27\n",
      "recall found at that learning rate is 0.8148148148148148\n"
     ]
    }
   ],
   "source": [
    "print(\"best learning rate found is: \", best_learning_rate)\n",
    "print(\"recall found at that learning rate is\", best_recall)"
   ]
  },
  {
   "cell_type": "code",
   "execution_count": 165,
   "outputs": [
    {
     "data": {
      "text/plain": "[<matplotlib.lines.Line2D at 0x269301df190>]"
     },
     "execution_count": 165,
     "metadata": {},
     "output_type": "execute_result"
    },
    {
     "data": {
      "text/plain": "<Figure size 432x288 with 1 Axes>",
      "image/png": "[encoded data removed]"
     },
     "metadata": {
      "needs_background": "light"
     },
     "output_type": "display_data"
    }
   ],
   "source": [
    "# changing number of iterations\n",
    "n_itrs = np.linspace(100, 500, 25)\n",
    "best_n_iters = 0\n",
    "best_recall = 0\n",
    "recallScore = []\n",
    "for i in n_itrs:\n",
    "    my_grdBst = GradientBoostingClassifier(learning_rate=best_learning_rate, n_estimators=int(i))\n",
    "    my_grdBst.fit(tr_X, tr_Y)\n",
    "    pred_Y = my_grdBst.predict(te_X)\n",
    "    rs = recall_score(te_Y, pred_Y)\n",
    "    recallScore.append(rs)\n",
    "    if rs > best_recall:\n",
    "        best_recall = rs\n",
    "        best_n_iters = int(i)\n",
    "\n",
    "plt.plot(recallScore)"
   ],
   "metadata": {
    "collapsed": false,
    "pycharm": {
     "name": "#%%\n"
    }
   }
  },
  {
   "cell_type": "code",
   "execution_count": 166,
   "outputs": [
    {
     "name": "stdout",
     "output_type": "stream",
     "text": [
      "best no of iterations is: 100\n",
      "recall coresponding to that is:  0.8148148148148148\n"
     ]
    }
   ],
   "source": [
    "print(\"best no of iterations is:\", best_n_iters)\n",
    "print(\"recall coresponding to that is: \", best_recall)"
   ],
   "metadata": {
    "collapsed": false,
    "pycharm": {
     "name": "#%%\n"
    }
   }
  },
  {
   "cell_type": "code",
   "execution_count": 167,
   "outputs": [
    {
     "data": {
      "text/plain": "[<matplotlib.lines.Line2D at 0x26930192a00>]"
     },
     "execution_count": 167,
     "metadata": {},
     "output_type": "execute_result"
    },
    {
     "data": {
      "text/plain": "<Figure size 432x288 with 1 Axes>",
      "image/png": "[encoded data removed]"
     },
     "metadata": {
      "needs_background": "light"
     },
     "output_type": "display_data"
    }
   ],
   "source": [
    "recallScore = []\n",
    "\n",
    "# trying different random state\n",
    "random_state1 = np.linspace(1, 100, 50)\n",
    "best_random_state = 0\n",
    "\n",
    "for i in random_state1:\n",
    "    if i == 0:\n",
    "        continue\n",
    "    my_grdBst = GradientBoostingClassifier(random_state=int(i), learning_rate=best_learning_rate,\n",
    "                                           n_estimators=best_n_iters)\n",
    "    my_grdBst.fit(tr_X, tr_Y)\n",
    "    pred_Y = my_grdBst.predict(te_X)\n",
    "    rs = recall_score(te_Y, pred_Y)\n",
    "    recallScore.append(rs)\n",
    "    if rs > best_recall:\n",
    "        best_recall = rs\n",
    "        best_random_state = int(i)\n",
    "\n",
    "plt.plot(recallScore)"
   ],
   "metadata": {
    "collapsed": false,
    "pycharm": {
     "name": "#%%\n"
    }
   }
  },
  {
   "cell_type": "code",
   "execution_count": 168,
   "outputs": [
    {
     "name": "stdout",
     "output_type": "stream",
     "text": [
      "best random_state rate found is:  0\n",
      "recall found at that learning rate is 0.8148148148148148\n"
     ]
    }
   ],
   "source": [
    "print(\"best random_state rate found is: \", best_random_state)\n",
    "print(\"recall found at that learning rate is\", best_recall)"
   ],
   "metadata": {
    "collapsed": false,
    "pycharm": {
     "name": "#%%\n"
    }
   }
  },
  {
   "cell_type": "code",
   "execution_count": 169,
   "outputs": [
    {
     "data": {
      "text/plain": "[<matplotlib.lines.Line2D at 0x26931254ee0>]"
     },
     "execution_count": 169,
     "metadata": {},
     "output_type": "execute_result"
    },
    {
     "data": {
      "text/plain": "<Figure size 432x288 with 1 Axes>",
      "image/png": "[encoded data removed]"
     },
     "metadata": {
      "needs_background": "light"
     },
     "output_type": "display_data"
    }
   ],
   "source": [
    "# changing min_samples_split\n",
    "min_samples_split_tests = [2, 3, 4, 5, 6]\n",
    "best_min_sample_split = 0\n",
    "best_recall = 0\n",
    "recallScore = []\n",
    "for i in min_samples_split_tests:\n",
    "    if i == 0:\n",
    "        continue\n",
    "    my_grdBst = GradientBoostingClassifier(random_state=best_random_state, learning_rate=best_learning_rate,\n",
    "                                           n_estimators=best_n_iters, min_samples_split=i)\n",
    "    my_grdBst.fit(tr_X, tr_Y)\n",
    "    pred_Y = my_grdBst.predict(te_X)\n",
    "    rs = recall_score(te_Y, pred_Y)\n",
    "    recallScore.append(rs)\n",
    "    if rs > best_recall:\n",
    "        best_recall = rs\n",
    "        best_min_sample_split = i\n",
    "\n",
    "plt.plot(recallScore)"
   ],
   "metadata": {
    "collapsed": false,
    "pycharm": {
     "name": "#%%\n"
    }
   }
  },
  {
   "cell_type": "code",
   "execution_count": 170,
   "outputs": [
    {
     "name": "stdout",
     "output_type": "stream",
     "text": [
      "best min_sample_split found is:  2\n",
      "recall found at that learning rate is 0.8148148148148148\n"
     ]
    }
   ],
   "source": [
    "print(\"best min_sample_split found is: \", best_min_sample_split)\n",
    "print(\"recall found at that learning rate is\", best_recall)"
   ],
   "metadata": {
    "collapsed": false,
    "pycharm": {
     "name": "#%%\n"
    }
   }
  },
  {
   "cell_type": "code",
   "execution_count": 171,
   "outputs": [
    {
     "data": {
      "text/plain": "[<matplotlib.lines.Line2D at 0x269312cca60>]"
     },
     "execution_count": 171,
     "metadata": {},
     "output_type": "execute_result"
    },
    {
     "data": {
      "text/plain": "<Figure size 432x288 with 1 Axes>",
      "image/png": "[encoded data removed]"
     },
     "metadata": {
      "needs_background": "light"
     },
     "output_type": "display_data"
    }
   ],
   "source": [
    "# changing min_samples_split\n",
    "min_samples_leaf_tests = [1, 2, 3, 4, 5, 6]\n",
    "best_min_sample_leaf = 0\n",
    "best_recall = 0\n",
    "recallScore = []\n",
    "for i in min_samples_leaf_tests:\n",
    "    if i == 0:\n",
    "        continue\n",
    "    my_grdBst = GradientBoostingClassifier(random_state=best_random_state, learning_rate=best_learning_rate,\n",
    "                                           n_estimators=best_n_iters, min_samples_split=best_min_sample_split,\n",
    "                                           min_samples_leaf=i)\n",
    "    my_grdBst.fit(tr_X, tr_Y)\n",
    "    pred_Y = my_grdBst.predict(te_X)\n",
    "    rs = recall_score(te_Y, pred_Y)\n",
    "    recallScore.append(rs)\n",
    "    if rs > best_recall:\n",
    "        best_recall = rs\n",
    "        best_min_sample_leaf = i\n",
    "\n",
    "plt.plot(recallScore)"
   ],
   "metadata": {
    "collapsed": false,
    "pycharm": {
     "name": "#%%\n"
    }
   }
  },
  {
   "cell_type": "code",
   "execution_count": 172,
   "outputs": [
    {
     "name": "stdout",
     "output_type": "stream",
     "text": [
      "best min_sample_leaf found is:  1\n",
      "recall found to that is 0.8148148148148148\n"
     ]
    }
   ],
   "source": [
    "print(\"best min_sample_leaf found is: \", best_min_sample_leaf)\n",
    "print(\"recall found to that is\", best_recall)"
   ],
   "metadata": {
    "collapsed": false,
    "pycharm": {
     "name": "#%%\n"
    }
   }
  },
  {
   "cell_type": "code",
   "execution_count": 173,
   "outputs": [
    {
     "name": "stdout",
     "output_type": "stream",
     "text": [
      "the best factors found are: \n",
      "learning rate: 0.27\n",
      "n_estimators: 100\n",
      "random_state 0\n",
      "min_sample_split 2\n",
      "min_sample_leaf 1\n"
     ]
    }
   ],
   "source": [
    "print(\"the best factors found are: \")\n",
    "print(\"learning rate:\", best_learning_rate)\n",
    "print(\"n_estimators:\", best_n_iters)\n",
    "print(\"random_state\", best_random_state)\n",
    "print(\"min_sample_split\", best_min_sample_split)\n",
    "print(\"min_sample_leaf\", best_min_sample_leaf)"
   ],
   "metadata": {
    "collapsed": false,
    "pycharm": {
     "name": "#%%\n"
    }
   }
  },
  {
   "cell_type": "code",
   "execution_count": 174,
   "outputs": [],
   "source": [
    "my_grdBst = GradientBoostingClassifier(random_state=best_random_state, learning_rate=best_learning_rate,\n",
    "                                       n_estimators=best_n_iters, min_samples_split=best_min_sample_split,\n",
    "                                       min_samples_leaf=best_min_sample_leaf)\n",
    "my_grdBst.fit(tr_X, tr_Y)\n",
    "pred_Y = my_grdBst.predict(te_X)\n",
    "\n",
    "pickle.dump(my_grdBst, open(\"Gradient_Boosting.pkl\",'wb'))"
   ],
   "metadata": {
    "collapsed": false,
    "pycharm": {
     "name": "#%%\n"
    }
   }
  },
  {
   "cell_type": "code",
   "execution_count": 175,
   "outputs": [
    {
     "name": "stdout",
     "output_type": "stream",
     "text": [
      "recall score:  0.8148148148148148\n",
      "precision_score 0.7586206896551724\n",
      "roc_auc_score 0.8374074074074074\n",
      "confusion matrix: [[43  7]\n",
      " [ 5 22]]\n"
     ]
    }
   ],
   "source": [
    "print(\"recall score: \", recall_score(te_Y,pred_Y))\n",
    "print(\"precision_score\", precision_score(te_Y, pred_Y))\n",
    "print(\"roc_auc_score\", roc_auc_score(te_Y, pred_Y))\n",
    "print(\"confusion matrix:\",confusion_matrix(te_Y, pred_Y))\n",
    "\n"
   ],
   "metadata": {
    "collapsed": false,
    "pycharm": {
     "name": "#%%\n"
    }
   }
  }
 ],
 "metadata": {
  "colab": {
   "collapsed_sections": [],
   "name": "Project_GradientBoosting.ipynb",
   "private_outputs": true,
   "provenance": []
  },
  "kernelspec": {
   "name": "pycharm-c5d7374f",
   "language": "python",
   "display_name": "PyCharm (Diabetes-Detection-Project)"
  },
  "language_info": {
   "codemirror_mode": {
    "name": "ipython",
    "version": 3
   },
   "file_extension": ".py",
   "mimetype": "text/x-python",
   "name": "python",
   "nbconvert_exporter": "python",
   "pygments_lexer": "ipython3",
   "version": "3.8.8"
  }
 },
 "nbformat": 4,
 "nbformat_minor": 0
}